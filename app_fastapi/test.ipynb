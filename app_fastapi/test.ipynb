{
 "cells": [
  {
   "cell_type": "code",
   "execution_count": 8,
   "metadata": {},
   "outputs": [
    {
     "name": "stdout",
     "output_type": "stream",
     "text": [
      "Requirement already satisfied: sqlalchemy in /Users/ktg/Desktop/23_HF171/AI_TEST/.venv/lib/python3.9/site-packages (2.0.17)\n",
      "Requirement already satisfied: psycopg2-binary in /Users/ktg/Desktop/23_HF171/AI_TEST/.venv/lib/python3.9/site-packages (2.9.7)\n",
      "Collecting PyMySQL\n",
      "  Downloading PyMySQL-1.1.0-py3-none-any.whl (44 kB)\n",
      "\u001b[2K     \u001b[90m━━━━━━━━━━━━━━━━━━━━━━━━━━━━━━━━━━━━━━━━\u001b[0m \u001b[32m44.8/44.8 KB\u001b[0m \u001b[31m5.1 MB/s\u001b[0m eta \u001b[36m0:00:00\u001b[0m\n",
      "\u001b[?25hRequirement already satisfied: typing-extensions>=4.2.0 in /Users/ktg/Desktop/23_HF171/AI_TEST/.venv/lib/python3.9/site-packages (from sqlalchemy) (4.7.1)\n",
      "Installing collected packages: PyMySQL\n",
      "Successfully installed PyMySQL-1.1.0\n",
      "\u001b[33mWARNING: You are using pip version 22.0.4; however, version 23.2.1 is available.\n",
      "You should consider upgrading via the '/Users/ktg/Desktop/23_HF171/AI_TEST/.venv/bin/python3 -m pip install --upgrade pip' command.\u001b[0m\u001b[33m\n",
      "\u001b[0m"
     ]
    }
   ],
   "source": [
    "!pip install sqlalchemy psycopg2-binary PyMySQL python-multipart"
   ]
  },
  {
   "cell_type": "code",
   "execution_count": 8,
   "metadata": {},
   "outputs": [],
   "source": [
    "import pymysql\n",
    "from pymysql.constants import CLIENT"
   ]
  },
  {
   "cell_type": "code",
   "execution_count": 37,
   "metadata": {},
   "outputs": [],
   "source": [
    "username='admin'\n",
    "password='1q2w3e4r1!'\n",
    "host='ict-server-database.csmlkqs5qkd4.ap-northeast-2.rds.amazonaws.com'\n",
    "port='3306'\n",
    "database_name='competition_management_service'"
   ]
  },
  {
   "cell_type": "code",
   "execution_count": 38,
   "metadata": {},
   "outputs": [],
   "source": [
    "db = pymysql.connect(host=host, user=username, passwd=password, database=database_name, charset='utf8')"
   ]
  },
  {
   "cell_type": "code",
   "execution_count": 39,
   "metadata": {},
   "outputs": [],
   "source": [
    "cursor = db.cursor()"
   ]
  },
  {
   "cell_type": "code",
   "execution_count": 40,
   "metadata": {},
   "outputs": [
    {
     "data": {
      "text/plain": [
       "(('comp_file_info',),\n",
       " ('comp_page_info',),\n",
       " ('competition_docs',),\n",
       " ('competition_info',),\n",
       " ('competition_type',),\n",
       " ('file_info',),\n",
       " ('file_result_info',),\n",
       " ('page_info',),\n",
       " ('page_result_info',),\n",
       " ('post_docs',),\n",
       " ('post_info',),\n",
       " ('team_info',),\n",
       " ('upload_post_type',),\n",
       " ('user_by_competition',),\n",
       " ('user_info',))"
      ]
     },
     "execution_count": 40,
     "metadata": {},
     "output_type": "execute_result"
    }
   ],
   "source": [
    "query = ''' Show Tables'''\n",
    "cursor.execute(query)\n",
    "cursor.fetchall()"
   ]
  },
  {
   "cell_type": "code",
   "execution_count": 41,
   "metadata": {},
   "outputs": [
    {
     "name": "stdout",
     "output_type": "stream",
     "text": [
      "((2, '2', 'PNG', '스크린샷 2023-07-22 133117', '2', b'\\xd1Z\\xb6\\x107\\xb1Oe\\x82\\x9d\\x89\\x8b\\xca\\xc8\\x1dj', datetime.datetime(2023, 8, 11, 23, 15, 47, 403195), 'www', '2', '2', '2', '2'), (3, '2', 'PNG', '스크린샷 2023-07-22 133117', '3', b'\\xaf8\\x9e\\xcd\\xab\\xb0F\\xae\\x91Mq\\xf8\\x98\\xa0a\\x0e', datetime.datetime(2023, 8, 11, 23, 23, 15, 698044), 'www', '3', '3', '3', '3'), (4, '3', 'PNG', '스크린샷 2023-07-22 133117', '312', b'\\xb8{\\x89\\x0c8dL,\\xb6\\xd4H\\x8a\\x0e\\xbcV}', datetime.datetime(2023, 8, 11, 23, 23, 27, 972501), 'www', '312', '312', '312', '312'), (5, '3', 'PNG', '스크린샷 2023-07-22 133117', '3121', b'|`\\xb8\\xe8\\xb3\\xffG*\\xa7\\x9a\\x84\\x83.\\xed\\x87\\xa8', datetime.datetime(2023, 8, 11, 23, 23, 35, 209539), 'www', '3121', '3121', '3121', '3121'), (6, '4', 'PNG', '스크린샷 2023-07-22 133117', '3121111', b'\\xf6\\xacjl\\xb3\\x80F\\x02\\x86\\xf1,pKR\\xe6M', datetime.datetime(2023, 8, 11, 23, 23, 44, 278861), 'www', '3121111', '3121111', '3121111', '3121111'), (7, 'plz', 'PDF', '소프트웨어_개발보안_가이드(2021.12.29)', 'plz', b'n\\xd8@\\xecmdHo\\x83\\x8d@\\xc8\\xfd&%\\x19', datetime.datetime(2023, 8, 11, 23, 57, 38, 727584), 'www', 'plz', 'plz', 'plz', ''), (8, 'haha', 'PDF', '소프트웨어_보안약점_진단가이드(2021)', 'haha', b'\\xd9\\x93%P\\x16\\xc1CM\\x85\\x89\\x87\\x82\\xf6?|V', datetime.datetime(2023, 8, 11, 23, 59, 54, 518625), 'www', 'haha', 'haha', 'haha', 'hahahaha'), (9, 'haha1', 'PDF', '소프트웨어_보안약점_진단가이드(2021)', 'haha1', b'\\xe7\\xfb7X\\xee\\xd5H\\x95\\x9ee\\x1e\\x18w\\x01\\xae\\x14', datetime.datetime(2023, 8, 12, 0, 1, 53, 806614), 'www', 'haha1', '2', '3', '4'), (10, 'sdfsdfsdf', 'PDF', '제10회 SW개발보안 경진대회_사전교육_메타버스_접속방법안내', 'sdfsdfsdf', b'\\xd2\\xd2\\xc1\\t|G@\\xb7\\xa3\\xf9\\xc2\\xe4\\x00\\xadYW', datetime.datetime(2023, 8, 12, 0, 18, 18, 940336), 'www', 'sdfsdfsdf', 'sdfsdfsdf', 'sdfsdfsdf', 'sdfsdfsdf'), (11, 'xcvxcv', 'PDF', '제10회 SW개발보안 경진대회 예선 개발기획서 CtrlCV', 'xcvxcv', b'\\x16\\x9a^\\xc1zpIg\\x93\\x8b\\xd4\\x8c\\xdd\"Y\\xc3', datetime.datetime(2023, 8, 12, 0, 19, 47, 253544), 'www', 'xcvxcv', 'xcvxcv', 'xcvxcv', 'xcvxcv'), (12, 'ss', 'PDF', '소프트웨어_보안약점_진단가이드(2021)', 'ss', b'\\xd1+\\xb3)?\\x8eD~\\x8f\\xcd\\xf1\\xfc\\xb9\\x12w\\xf4', datetime.datetime(2023, 8, 12, 0, 42, 55, 529829), 'www', 'ss', 'ss', 'ss', 'ss'), (13, 'fff', 'PDF', '제10회 SW개발보안 경진대회 운영요강', 'ff', b'\\xe1\\x89\\x9a\\x17bWGE\\xad\\xf2\\x83!\\x8e@\\xf6\\x94', datetime.datetime(2023, 8, 12, 0, 44, 16, 591666), 'www', 'ff', 'ff', 'f', 'fff'), (14, 'sss', 'PDF', '소프트웨어_개발보안_가이드(2021.12.29)', 'sss', b'\\xfb\\xee\\xc5\\xc3b\\xadB\\x18\\x92A\\xc0S\\x01/\\xc5\\x18', datetime.datetime(2023, 8, 12, 0, 49, 41, 851708), 'www', 'sss', 'sss', 'ss', 'sss'), (15, 'f', 'PDF', '제10회 SW개발보안 경진대회 예선 개발기획서 CtrlCV', 'f', b'BZ\"\\xbeF\\t@\\x8d\\x97,\\x98Li3\\xeb\\xa3', datetime.datetime(2023, 8, 12, 0, 50, 26, 799386), 'www', 'f', 'f', 'f', 'f'), (16, 'f', 'PDF', '제10회 SW개발보안 경진대회_사전교육_메타버스_접속방법안내', 'a', b'\\xf6\\xfe\\xd7\\xd9\\xdb\\xafE\\xaa\\x84\\x02\\x9e\\xce\\xb5\\x19FK', datetime.datetime(2023, 8, 12, 1, 9, 46, 334158), 'www', 'a', 's', 'd', 'f'), (17, 'f', 'PDF', '제10회 SW개발보안 경진대회 예선 개발기획서 CtrlCV', 'a', b'\\xc6\\xe0\\x98k\\xe3\\xd1AX\\x9e\\xaf\\xac\\xe2\\xc2\\xe2\\xa2\\x99', datetime.datetime(2023, 8, 12, 1, 12, 13, 118828), 'www', 's', 'd', 'f', 'a'), (18, 'a', 'PDF', 'CtrlCV팀_팀원_정재욱_자격증빙서류', 's', b'\\xe5\\xf7Gs%OIw\\xaf\\x02\\x8e\\xf8\\x97\\xad\\xb3\\xd4', datetime.datetime(2023, 8, 12, 1, 17, 14, 985344), 'www', 'a', 's', 'a', 's'), (19, 'f', 'PDF', '제10회 SW개발보안 경진대회 예선 개발기획서 CtrlCV', 'f', b'7\\xa0\\xcf\\xe2}\\xa8Eu\\x9d,\\x00\\t\\xc7\\xfe\\xcbD', datetime.datetime(2023, 8, 12, 1, 29, 10, 210410), 'www', 'f', 'f', 'f', 'f'), (1234, 'f', 'PDF', '제10회 SW개발보안 경진대회 예선 개발기획서 CtrlCV', '2', b'7\\xa0\\xcf\\xe2}\\xa8Eu\\x9d,\\x00\\t\\xc7\\xfe\\xcbD', datetime.datetime(2023, 8, 12, 1, 29, 10, 210410), 'www', 'f', 'f', 'f', 'f'))\n"
     ]
    }
   ],
   "source": [
    "query='SELECT * FROM comp_file_info;'\n",
    "cursor.execute(query)\n",
    "print(cursor.fetchall())"
   ]
  },
  {
   "cell_type": "code",
   "execution_count": 42,
   "metadata": {},
   "outputs": [
    {
     "data": {
      "text/plain": [
       "(('page_id', 'varchar(255)', 'NO', 'PRI', None, ''),\n",
       " ('page_num', 'varchar(255)', 'YES', '', None, ''),\n",
       " ('start_index', 'varchar(255)', 'YES', '', None, ''),\n",
       " ('file_id', 'int', 'YES', 'MUL', None, ''))"
      ]
     },
     "execution_count": 42,
     "metadata": {},
     "output_type": "execute_result"
    }
   ],
   "source": [
    "query='SHOW COLUMNS FROM comp_page_info;'\n",
    "cursor.execute(query)\n",
    "cursor.fetchall()"
   ]
  },
  {
   "cell_type": "code",
   "execution_count": 43,
   "metadata": {},
   "outputs": [
    {
     "ename": "OperationalError",
     "evalue": "(1205, 'Lock wait timeout exceeded; try restarting transaction')",
     "output_type": "error",
     "traceback": [
      "\u001b[0;31m---------------------------------------------------------------------------\u001b[0m",
      "\u001b[0;31mOperationalError\u001b[0m                          Traceback (most recent call last)",
      "Cell \u001b[0;32mIn[43], line 8\u001b[0m\n\u001b[1;32m      6\u001b[0m     db\u001b[39m.\u001b[39mcommit()\n\u001b[1;32m      7\u001b[0m data \u001b[39m=\u001b[39m [(\u001b[39m'\u001b[39m\u001b[39m1111\u001b[39m\u001b[39m'\u001b[39m,\u001b[39m'\u001b[39m\u001b[39m2\u001b[39m\u001b[39m'\u001b[39m)]\n\u001b[0;32m----> 8\u001b[0m updateFileSummary(data)\n",
      "Cell \u001b[0;32mIn[43], line 5\u001b[0m, in \u001b[0;36mupdateFileSummary\u001b[0;34m(data)\u001b[0m\n\u001b[1;32m      1\u001b[0m \u001b[39mdef\u001b[39;00m \u001b[39mupdateFileSummary\u001b[39m(data):\n\u001b[1;32m      2\u001b[0m     query\u001b[39m=\u001b[39m\u001b[39m'''\u001b[39m\u001b[39mUPDATE file_info\u001b[39m\n\u001b[1;32m      3\u001b[0m \u001b[39m    SET summary = \u001b[39m\u001b[39m%s\u001b[39;00m\n\u001b[1;32m      4\u001b[0m \u001b[39m    WHERE file_id = \u001b[39m\u001b[39m%s\u001b[39;00m\u001b[39m;\u001b[39m\u001b[39m'''\u001b[39m\n\u001b[0;32m----> 5\u001b[0m     cursor\u001b[39m.\u001b[39;49mexecutemany(query, data)\n\u001b[1;32m      6\u001b[0m     db\u001b[39m.\u001b[39mcommit()\n",
      "File \u001b[0;32m~/Desktop/23_HF171/AI_TEST/.venv/lib/python3.9/site-packages/pymysql/cursors.py:191\u001b[0m, in \u001b[0;36mCursor.executemany\u001b[0;34m(self, query, args)\u001b[0m\n\u001b[1;32m    181\u001b[0m     \u001b[39massert\u001b[39;00m q_values[\u001b[39m0\u001b[39m] \u001b[39m==\u001b[39m \u001b[39m\"\u001b[39m\u001b[39m(\u001b[39m\u001b[39m\"\u001b[39m \u001b[39mand\u001b[39;00m q_values[\u001b[39m-\u001b[39m\u001b[39m1\u001b[39m] \u001b[39m==\u001b[39m \u001b[39m\"\u001b[39m\u001b[39m)\u001b[39m\u001b[39m\"\u001b[39m\n\u001b[1;32m    182\u001b[0m     \u001b[39mreturn\u001b[39;00m \u001b[39mself\u001b[39m\u001b[39m.\u001b[39m_do_execute_many(\n\u001b[1;32m    183\u001b[0m         q_prefix,\n\u001b[1;32m    184\u001b[0m         q_values,\n\u001b[0;32m   (...)\u001b[0m\n\u001b[1;32m    188\u001b[0m         \u001b[39mself\u001b[39m\u001b[39m.\u001b[39m_get_db()\u001b[39m.\u001b[39mencoding,\n\u001b[1;32m    189\u001b[0m     )\n\u001b[0;32m--> 191\u001b[0m \u001b[39mself\u001b[39m\u001b[39m.\u001b[39mrowcount \u001b[39m=\u001b[39m \u001b[39msum\u001b[39;49m(\u001b[39mself\u001b[39;49m\u001b[39m.\u001b[39;49mexecute(query, arg) \u001b[39mfor\u001b[39;49;00m arg \u001b[39min\u001b[39;49;00m args)\n\u001b[1;32m    192\u001b[0m \u001b[39mreturn\u001b[39;00m \u001b[39mself\u001b[39m\u001b[39m.\u001b[39mrowcount\n",
      "File \u001b[0;32m~/Desktop/23_HF171/AI_TEST/.venv/lib/python3.9/site-packages/pymysql/cursors.py:191\u001b[0m, in \u001b[0;36m<genexpr>\u001b[0;34m(.0)\u001b[0m\n\u001b[1;32m    181\u001b[0m     \u001b[39massert\u001b[39;00m q_values[\u001b[39m0\u001b[39m] \u001b[39m==\u001b[39m \u001b[39m\"\u001b[39m\u001b[39m(\u001b[39m\u001b[39m\"\u001b[39m \u001b[39mand\u001b[39;00m q_values[\u001b[39m-\u001b[39m\u001b[39m1\u001b[39m] \u001b[39m==\u001b[39m \u001b[39m\"\u001b[39m\u001b[39m)\u001b[39m\u001b[39m\"\u001b[39m\n\u001b[1;32m    182\u001b[0m     \u001b[39mreturn\u001b[39;00m \u001b[39mself\u001b[39m\u001b[39m.\u001b[39m_do_execute_many(\n\u001b[1;32m    183\u001b[0m         q_prefix,\n\u001b[1;32m    184\u001b[0m         q_values,\n\u001b[0;32m   (...)\u001b[0m\n\u001b[1;32m    188\u001b[0m         \u001b[39mself\u001b[39m\u001b[39m.\u001b[39m_get_db()\u001b[39m.\u001b[39mencoding,\n\u001b[1;32m    189\u001b[0m     )\n\u001b[0;32m--> 191\u001b[0m \u001b[39mself\u001b[39m\u001b[39m.\u001b[39mrowcount \u001b[39m=\u001b[39m \u001b[39msum\u001b[39m(\u001b[39mself\u001b[39;49m\u001b[39m.\u001b[39;49mexecute(query, arg) \u001b[39mfor\u001b[39;00m arg \u001b[39min\u001b[39;00m args)\n\u001b[1;32m    192\u001b[0m \u001b[39mreturn\u001b[39;00m \u001b[39mself\u001b[39m\u001b[39m.\u001b[39mrowcount\n",
      "File \u001b[0;32m~/Desktop/23_HF171/AI_TEST/.venv/lib/python3.9/site-packages/pymysql/cursors.py:153\u001b[0m, in \u001b[0;36mCursor.execute\u001b[0;34m(self, query, args)\u001b[0m\n\u001b[1;32m    149\u001b[0m     \u001b[39mpass\u001b[39;00m\n\u001b[1;32m    151\u001b[0m query \u001b[39m=\u001b[39m \u001b[39mself\u001b[39m\u001b[39m.\u001b[39mmogrify(query, args)\n\u001b[0;32m--> 153\u001b[0m result \u001b[39m=\u001b[39m \u001b[39mself\u001b[39;49m\u001b[39m.\u001b[39;49m_query(query)\n\u001b[1;32m    154\u001b[0m \u001b[39mself\u001b[39m\u001b[39m.\u001b[39m_executed \u001b[39m=\u001b[39m query\n\u001b[1;32m    155\u001b[0m \u001b[39mreturn\u001b[39;00m result\n",
      "File \u001b[0;32m~/Desktop/23_HF171/AI_TEST/.venv/lib/python3.9/site-packages/pymysql/cursors.py:322\u001b[0m, in \u001b[0;36mCursor._query\u001b[0;34m(self, q)\u001b[0m\n\u001b[1;32m    320\u001b[0m conn \u001b[39m=\u001b[39m \u001b[39mself\u001b[39m\u001b[39m.\u001b[39m_get_db()\n\u001b[1;32m    321\u001b[0m \u001b[39mself\u001b[39m\u001b[39m.\u001b[39m_clear_result()\n\u001b[0;32m--> 322\u001b[0m conn\u001b[39m.\u001b[39;49mquery(q)\n\u001b[1;32m    323\u001b[0m \u001b[39mself\u001b[39m\u001b[39m.\u001b[39m_do_get_result()\n\u001b[1;32m    324\u001b[0m \u001b[39mreturn\u001b[39;00m \u001b[39mself\u001b[39m\u001b[39m.\u001b[39mrowcount\n",
      "File \u001b[0;32m~/Desktop/23_HF171/AI_TEST/.venv/lib/python3.9/site-packages/pymysql/connections.py:558\u001b[0m, in \u001b[0;36mConnection.query\u001b[0;34m(self, sql, unbuffered)\u001b[0m\n\u001b[1;32m    556\u001b[0m     sql \u001b[39m=\u001b[39m sql\u001b[39m.\u001b[39mencode(\u001b[39mself\u001b[39m\u001b[39m.\u001b[39mencoding, \u001b[39m\"\u001b[39m\u001b[39msurrogateescape\u001b[39m\u001b[39m\"\u001b[39m)\n\u001b[1;32m    557\u001b[0m \u001b[39mself\u001b[39m\u001b[39m.\u001b[39m_execute_command(COMMAND\u001b[39m.\u001b[39mCOM_QUERY, sql)\n\u001b[0;32m--> 558\u001b[0m \u001b[39mself\u001b[39m\u001b[39m.\u001b[39m_affected_rows \u001b[39m=\u001b[39m \u001b[39mself\u001b[39;49m\u001b[39m.\u001b[39;49m_read_query_result(unbuffered\u001b[39m=\u001b[39;49munbuffered)\n\u001b[1;32m    559\u001b[0m \u001b[39mreturn\u001b[39;00m \u001b[39mself\u001b[39m\u001b[39m.\u001b[39m_affected_rows\n",
      "File \u001b[0;32m~/Desktop/23_HF171/AI_TEST/.venv/lib/python3.9/site-packages/pymysql/connections.py:822\u001b[0m, in \u001b[0;36mConnection._read_query_result\u001b[0;34m(self, unbuffered)\u001b[0m\n\u001b[1;32m    820\u001b[0m \u001b[39melse\u001b[39;00m:\n\u001b[1;32m    821\u001b[0m     result \u001b[39m=\u001b[39m MySQLResult(\u001b[39mself\u001b[39m)\n\u001b[0;32m--> 822\u001b[0m     result\u001b[39m.\u001b[39;49mread()\n\u001b[1;32m    823\u001b[0m \u001b[39mself\u001b[39m\u001b[39m.\u001b[39m_result \u001b[39m=\u001b[39m result\n\u001b[1;32m    824\u001b[0m \u001b[39mif\u001b[39;00m result\u001b[39m.\u001b[39mserver_status \u001b[39mis\u001b[39;00m \u001b[39mnot\u001b[39;00m \u001b[39mNone\u001b[39;00m:\n",
      "File \u001b[0;32m~/Desktop/23_HF171/AI_TEST/.venv/lib/python3.9/site-packages/pymysql/connections.py:1200\u001b[0m, in \u001b[0;36mMySQLResult.read\u001b[0;34m(self)\u001b[0m\n\u001b[1;32m   1198\u001b[0m \u001b[39mdef\u001b[39;00m \u001b[39mread\u001b[39m(\u001b[39mself\u001b[39m):\n\u001b[1;32m   1199\u001b[0m     \u001b[39mtry\u001b[39;00m:\n\u001b[0;32m-> 1200\u001b[0m         first_packet \u001b[39m=\u001b[39m \u001b[39mself\u001b[39;49m\u001b[39m.\u001b[39;49mconnection\u001b[39m.\u001b[39;49m_read_packet()\n\u001b[1;32m   1202\u001b[0m         \u001b[39mif\u001b[39;00m first_packet\u001b[39m.\u001b[39mis_ok_packet():\n\u001b[1;32m   1203\u001b[0m             \u001b[39mself\u001b[39m\u001b[39m.\u001b[39m_read_ok_packet(first_packet)\n",
      "File \u001b[0;32m~/Desktop/23_HF171/AI_TEST/.venv/lib/python3.9/site-packages/pymysql/connections.py:772\u001b[0m, in \u001b[0;36mConnection._read_packet\u001b[0;34m(self, packet_type)\u001b[0m\n\u001b[1;32m    770\u001b[0m     \u001b[39mif\u001b[39;00m \u001b[39mself\u001b[39m\u001b[39m.\u001b[39m_result \u001b[39mis\u001b[39;00m \u001b[39mnot\u001b[39;00m \u001b[39mNone\u001b[39;00m \u001b[39mand\u001b[39;00m \u001b[39mself\u001b[39m\u001b[39m.\u001b[39m_result\u001b[39m.\u001b[39munbuffered_active \u001b[39mis\u001b[39;00m \u001b[39mTrue\u001b[39;00m:\n\u001b[1;32m    771\u001b[0m         \u001b[39mself\u001b[39m\u001b[39m.\u001b[39m_result\u001b[39m.\u001b[39munbuffered_active \u001b[39m=\u001b[39m \u001b[39mFalse\u001b[39;00m\n\u001b[0;32m--> 772\u001b[0m     packet\u001b[39m.\u001b[39;49mraise_for_error()\n\u001b[1;32m    773\u001b[0m \u001b[39mreturn\u001b[39;00m packet\n",
      "File \u001b[0;32m~/Desktop/23_HF171/AI_TEST/.venv/lib/python3.9/site-packages/pymysql/protocol.py:221\u001b[0m, in \u001b[0;36mMysqlPacket.raise_for_error\u001b[0;34m(self)\u001b[0m\n\u001b[1;32m    219\u001b[0m \u001b[39mif\u001b[39;00m DEBUG:\n\u001b[1;32m    220\u001b[0m     \u001b[39mprint\u001b[39m(\u001b[39m\"\u001b[39m\u001b[39merrno =\u001b[39m\u001b[39m\"\u001b[39m, errno)\n\u001b[0;32m--> 221\u001b[0m err\u001b[39m.\u001b[39;49mraise_mysql_exception(\u001b[39mself\u001b[39;49m\u001b[39m.\u001b[39;49m_data)\n",
      "File \u001b[0;32m~/Desktop/23_HF171/AI_TEST/.venv/lib/python3.9/site-packages/pymysql/err.py:143\u001b[0m, in \u001b[0;36mraise_mysql_exception\u001b[0;34m(data)\u001b[0m\n\u001b[1;32m    141\u001b[0m \u001b[39mif\u001b[39;00m errorclass \u001b[39mis\u001b[39;00m \u001b[39mNone\u001b[39;00m:\n\u001b[1;32m    142\u001b[0m     errorclass \u001b[39m=\u001b[39m InternalError \u001b[39mif\u001b[39;00m errno \u001b[39m<\u001b[39m \u001b[39m1000\u001b[39m \u001b[39melse\u001b[39;00m OperationalError\n\u001b[0;32m--> 143\u001b[0m \u001b[39mraise\u001b[39;00m errorclass(errno, errval)\n",
      "\u001b[0;31mOperationalError\u001b[0m: (1205, 'Lock wait timeout exceeded; try restarting transaction')"
     ]
    }
   ],
   "source": [
    "def updateFileSummary(data):\n",
    "    query='''UPDATE file_info\n",
    "    SET summary = %s\n",
    "    WHERE file_id = %s;'''\n",
    "    cursor.executemany(query, data)\n",
    "    db.commit()\n",
    "data = [('1111','2')]\n",
    "updateFileSummary(data)"
   ]
  },
  {
   "cell_type": "code",
   "execution_count": 45,
   "metadata": {},
   "outputs": [],
   "source": [
    "data=[\n",
    "    {\n",
    "      \"file_id\": 1234,\n",
    "      \"page_id\": \"ca6c1354-3870-11ee-b9f5-56cc850cf3c0\",\n",
    "      \"page_num\": 0,\n",
    "      \"start_index\": 0\n",
    "    },\n",
    "    {\n",
    "      \"file_id\": 1234,\n",
    "      \"page_id\": \"ca6c13ae-3870-11ee-b9f5-56cc850cf3c0\",\n",
    "      \"page_num\": 0,\n",
    "      \"start_index\": 406\n",
    "    },\n",
    "    {\n",
    "      \"file_id\": 1234,\n",
    "      \"page_id\": \"ca6c13cc-3870-11ee-b9f5-56cc850cf3c0\",\n",
    "      \"page_num\": 0,\n",
    "      \"start_index\": 823\n",
    "    },\n",
    "    {\n",
    "      \"file_id\": 1234,\n",
    "      \"page_id\": \"ca6c13e0-3870-11ee-b9f5-56cc850cf3c0\",\n",
    "      \"page_num\": 0,\n",
    "      \"start_index\": 1348\n",
    "    },\n",
    "    {\n",
    "      \"file_id\": 1234,\n",
    "      \"page_id\": \"ca6c13f4-3870-11ee-b9f5-56cc850cf3c0\",\n",
    "      \"page_num\": 0,\n",
    "      \"start_index\": 1797\n",
    "    },\n",
    "    {\n",
    "      \"file_id\": 1234,\n",
    "      \"page_id\": \"ca6c1408-3870-11ee-b9f5-56cc850cf3c0\",\n",
    "      \"page_num\": 1,\n",
    "      \"start_index\": 2\n",
    "    },\n",
    "    {\n",
    "      \"file_id\": 1234,\n",
    "      \"page_id\": \"ca6c1412-3870-11ee-b9f5-56cc850cf3c0\",\n",
    "      \"page_num\": 1,\n",
    "      \"start_index\": 692\n",
    "    },\n",
    "    {\n",
    "      \"file_id\": 1234,\n",
    "      \"page_id\": \"ca6c1426-3870-11ee-b9f5-56cc850cf3c0\",\n",
    "      \"page_num\": 1,\n",
    "      \"start_index\": 1243\n",
    "    },\n",
    "    {\n",
    "      \"file_id\": 1234,\n",
    "      \"page_id\": \"ca6c143a-3870-11ee-b9f5-56cc850cf3c0\",\n",
    "      \"page_num\": 2,\n",
    "      \"start_index\": 0\n",
    "    },\n",
    "    {\n",
    "      \"file_id\": 1234,\n",
    "      \"page_id\": \"ca6c144e-3870-11ee-b9f5-56cc850cf3c0\",\n",
    "      \"page_num\": 2,\n",
    "      \"start_index\": 470\n",
    "    },\n",
    "    {\n",
    "      \"file_id\": 1234,\n",
    "      \"page_id\": \"ca6c1458-3870-11ee-b9f5-56cc850cf3c0\",\n",
    "      \"page_num\": 3,\n",
    "      \"start_index\": 0\n",
    "    },\n",
    "    {\n",
    "      \"file_id\": 1234,\n",
    "      \"page_id\": \"ca6c146c-3870-11ee-b9f5-56cc850cf3c0\",\n",
    "      \"page_num\": 4,\n",
    "      \"start_index\": 0\n",
    "    },\n",
    "    {\n",
    "      \"file_id\": 1234,\n",
    "      \"page_id\": \"ca6c1480-3870-11ee-b9f5-56cc850cf3c0\",\n",
    "      \"page_num\": 4,\n",
    "      \"start_index\": 435\n",
    "    }]"
   ]
  },
  {
   "cell_type": "code",
   "execution_count": 46,
   "metadata": {},
   "outputs": [
    {
     "name": "stdout",
     "output_type": "stream",
     "text": [
      "INSERT INTO `comp_page_info` VALUES (%(file_id)s, %(page_id)s, %(page_num)s, %(start_index)s);\n"
     ]
    }
   ],
   "source": [
    "def insertPageInfo(data):\n",
    "    # query = \"\"\"INSERT INTO comp_page_info(page_id,page_num,start_index,file_id)\\\n",
    "    # values(%s,%s,%s,%s)\"\"\"\n",
    "    query = \"INSERT INTO `comp_page_info` VALUES (%(file_id)s, %(page_id)s, %(page_num)s, %(start_index)s);\"\n",
    "    print(query)\n",
    "    cursor.executemany(query,data)\n",
    "    \n",
    "    # db.commit()\n",
    "insertPageInfo(data)"
   ]
  },
  {
   "cell_type": "code",
   "execution_count": null,
   "metadata": {},
   "outputs": [],
   "source": []
  }
 ],
 "metadata": {
  "kernelspec": {
   "display_name": ".venv",
   "language": "python",
   "name": "python3"
  },
  "language_info": {
   "codemirror_mode": {
    "name": "ipython",
    "version": 3
   },
   "file_extension": ".py",
   "mimetype": "text/x-python",
   "name": "python",
   "nbconvert_exporter": "python",
   "pygments_lexer": "ipython3",
   "version": "3.9.16"
  },
  "orig_nbformat": 4
 },
 "nbformat": 4,
 "nbformat_minor": 2
}
