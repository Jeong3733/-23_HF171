{
 "cells": [
  {
   "cell_type": "code",
   "execution_count": 2,
   "metadata": {},
   "outputs": [],
   "source": [
    "# pip install boto3"
   ]
  },
  {
   "cell_type": "code",
   "execution_count": 60,
   "metadata": {},
   "outputs": [
    {
     "name": "stdout",
     "output_type": "stream",
     "text": [
      "competition-file-list\n"
     ]
    }
   ],
   "source": [
    "import boto3  # pip install boto3\n",
    "\n",
    "# Let's use Amazon S3\n",
    "s3 = boto3.resource(\"s3\")\n",
    "\n",
    "# Print out bucket names\n",
    "for bucket in s3.buckets.all():\n",
    "    print(bucket.name)"
   ]
  },
  {
   "cell_type": "code",
   "execution_count": 8,
   "metadata": {},
   "outputs": [],
   "source": [
    "import boto3\n",
    "\n",
    "# Create an S3 access object\n",
    "s3 = boto3.client(\"s3\")"
   ]
  },
  {
   "cell_type": "code",
   "execution_count": 9,
   "metadata": {},
   "outputs": [],
   "source": [
    "s3_bucket = 'competition-file-list'"
   ]
  },
  {
   "cell_type": "code",
   "execution_count": 10,
   "metadata": {},
   "outputs": [],
   "source": [
    "s3.upload_file(\n",
    "    Filename=\"/Users/ktg/Desktop/23_HF171/AI_TEST/data/서울특별시 버스노선 혼잡도 예측을 통한 다람쥐버스 신규 노선제안(장려).pdf\",\n",
    "    Bucket=s3_bucket,\n",
    "    Key=\"test.pdf\",\n",
    ")"
   ]
  },
  {
   "cell_type": "code",
   "execution_count": 79,
   "metadata": {},
   "outputs": [],
   "source": [
    "s3.download_file(\n",
    "    Bucket=s3_bucket,\n",
    "    Key=\"opensurvey_trend_finance_2022.pdf\",\n",
    "    # Key=\"test.pdf\",\n",
    "    Filename=\"data/test.pdf\"\n",
    ")"
   ]
  },
  {
   "cell_type": "code",
   "execution_count": 82,
   "metadata": {},
   "outputs": [],
   "source": [
    "from langchain.document_loaders import PyMuPDFLoader, DirectoryLoader\n",
    "loader = PyMuPDFLoader(file_path='data/test.pdf')"
   ]
  },
  {
   "cell_type": "code",
   "execution_count": 1,
   "metadata": {},
   "outputs": [],
   "source": [
    "import uuid"
   ]
  },
  {
   "cell_type": "code",
   "execution_count": 63,
   "metadata": {},
   "outputs": [],
   "source": [
    "id = uuid.uuid4()"
   ]
  },
  {
   "cell_type": "code",
   "execution_count": 69,
   "metadata": {},
   "outputs": [],
   "source": [
    "fileInfo = {'file_id': 'file_id',\n",
    "            'post_id': 'post_id',\n",
    "            'upload_datetime': 'upload_datetime',\n",
    "            'file_extension': 'file_extension',\n",
    "            'file_title': 'file_title',\n",
    "            'path': 'path',\n",
    "            'user_id': 'user_id'}"
   ]
  },
  {
   "cell_type": "code",
   "execution_count": 61,
   "metadata": {},
   "outputs": [],
   "source": [
    "import boto3\n",
    "\n",
    "s3_bucket = 'competition-file-list'\n",
    "\n",
    "def _getFileFromBoto3(fileInfo):\n",
    "    # filePath = f\"data/{fileInfo['file_title']}.{fileInfo['file_extension']}\"\n",
    "    filePath = \"data/test.pdf\"\n",
    "    s3 = boto3.client(\"s3\")\n",
    "    s3.download_file(\n",
    "        Bucket=s3_bucket,\n",
    "        # key=fileInfo['path'],\n",
    "        Key=\"test.pdf\",\n",
    "        # Filename=filePath\n",
    "        Filename=filePath\n",
    "    )\n",
    "    return filePath\n",
    "    \n",
    "def _getFileFromS3(fileInfo):\n",
    "    # filePath = f\"data/{fileInfo['file_title']}.{fileInfo['file_extension']}\"\n",
    "    filePath = \"data/test.pdf\"\n",
    "    return filePath"
   ]
  }
 ],
 "metadata": {
  "kernelspec": {
   "display_name": ".venv",
   "language": "python",
   "name": "python3"
  },
  "language_info": {
   "codemirror_mode": {
    "name": "ipython",
    "version": 3
   },
   "file_extension": ".py",
   "mimetype": "text/x-python",
   "name": "python",
   "nbconvert_exporter": "python",
   "pygments_lexer": "ipython3",
   "version": "3.9.16"
  },
  "orig_nbformat": 4
 },
 "nbformat": 4,
 "nbformat_minor": 2
}
