{
 "cells": [
  {
   "cell_type": "code",
   "execution_count": 1,
   "metadata": {},
   "outputs": [
    {
     "data": {
      "text/plain": [
       "True"
      ]
     },
     "execution_count": 1,
     "metadata": {},
     "output_type": "execute_result"
    }
   ],
   "source": [
    "import os\n",
    "\n",
    "from collections import defaultdict\n",
    "import tiktoken\n",
    "\n",
    "def num_tokens_from_string(string: str, encoding_name: str='cl100k_base') -> int:\n",
    "    \"\"\"Returns the number of tokens in a text string.\"\"\"\n",
    "    encoding = tiktoken.get_encoding(encoding_name)\n",
    "    num_tokens = len(encoding.encode(string))\n",
    "    return num_tokens\n",
    "\n",
    "from dotenv import load_dotenv\n",
    "\n",
    "load_dotenv()\n",
    "# os.environ[\"OPENAI_API_KEY\"] = \"\""
   ]
  },
  {
   "cell_type": "code",
   "execution_count": 2,
   "metadata": {},
   "outputs": [],
   "source": [
    "from langchain.vectorstores import Chroma\n",
    "from langchain.embeddings import OpenAIEmbeddings\n",
    "from langchain.text_splitter import RecursiveCharacterTextSplitter\n",
    "from langchain.llms import OpenAI\n",
    "from langchain.chains import RetrievalQA\n",
    "from langchain.document_loaders import PyMuPDFLoader, UnstructuredExcelLoader\n",
    "from langchain.document_loaders import DirectoryLoader"
   ]
  },
  {
   "cell_type": "code",
   "execution_count": 3,
   "metadata": {},
   "outputs": [],
   "source": [
    "# Load and process the text files\n",
    "# loader = TextLoader('single_text_file.txt')\n",
    "# loader = DirectoryLoader('./data/', glob=\"./*.pdf\", loader_cls=PyMuPDFLoader)\n",
    "file_path='data/서울특별시 버스노선 혼잡도 예측을 통한 다람쥐버스 신규 노선제안(장려).pdf'\n",
    "loader = PyMuPDFLoader(file_path=file_path)\n",
    "documents = loader.load()"
   ]
  },
  {
   "cell_type": "code",
   "execution_count": 4,
   "metadata": {},
   "outputs": [],
   "source": [
    "#splitting the text into\n",
    "text_splitter = RecursiveCharacterTextSplitter(chunk_size=1000, chunk_overlap=200)\n",
    "docs = text_splitter.split_documents(documents)"
   ]
  },
  {
   "attachments": {},
   "cell_type": "markdown",
   "metadata": {},
   "source": [
    "## QA DB"
   ]
  },
  {
   "cell_type": "code",
   "execution_count": 15,
   "metadata": {},
   "outputs": [],
   "source": [
    "embedding = OpenAIEmbeddings()\n",
    "persist_directory = 'doc_db'\n",
    "\n",
    "doc_vectordb = Chroma.from_documents(documents=docs, \n",
    "                                 embedding=embedding,\n",
    "                                 persist_directory=persist_directory)"
   ]
  },
  {
   "cell_type": "code",
   "execution_count": 16,
   "metadata": {},
   "outputs": [],
   "source": [
    "doc_vectordb.persist()\n",
    "doc_vectordb = None"
   ]
  },
  {
   "cell_type": "code",
   "execution_count": 17,
   "metadata": {},
   "outputs": [],
   "source": [
    "doc_vectordb = Chroma(persist_directory=persist_directory, \n",
    "                  embedding_function=embedding)"
   ]
  },
  {
   "cell_type": "code",
   "execution_count": 18,
   "metadata": {},
   "outputs": [],
   "source": [
    "retriever = doc_vectordb.as_retriever(search_kwargs={\"k\": 2})"
   ]
  },
  {
   "cell_type": "code",
   "execution_count": 19,
   "metadata": {},
   "outputs": [],
   "source": [
    "qa_chain = RetrievalQA.from_chain_type(llm=OpenAI(), \n",
    "                                  chain_type=\"stuff\", \n",
    "                                  retriever=retriever, \n",
    "                                  return_source_documents=True)"
   ]
  },
  {
   "attachments": {},
   "cell_type": "markdown",
   "metadata": {},
   "source": [
    "## 표절검사"
   ]
  },
  {
   "cell_type": "code",
   "execution_count": 127,
   "metadata": {},
   "outputs": [],
   "source": [
    "persist_directory = 'total_db'\n",
    "\n",
    "total_vectordb = Chroma(persist_directory=persist_directory, \n",
    "                  embedding_function=embedding)"
   ]
  },
  {
   "cell_type": "code",
   "execution_count": 30,
   "metadata": {},
   "outputs": [
    {
     "data": {
      "text/plain": [
       "dict_keys(['ids', 'embeddings', 'documents', 'metadatas'])"
      ]
     },
     "execution_count": 30,
     "metadata": {},
     "output_type": "execute_result"
    }
   ],
   "source": [
    "doc_vectordb.get(include=['embeddings']).keys()"
   ]
  },
  {
   "cell_type": "code",
   "execution_count": 44,
   "metadata": {},
   "outputs": [],
   "source": [
    "from tqdm import tqdm"
   ]
  },
  {
   "cell_type": "code",
   "execution_count": 66,
   "metadata": {},
   "outputs": [
    {
     "data": {
      "text/plain": [
       "dict_keys(['ids', 'embeddings', 'documents', 'metadatas'])"
      ]
     },
     "execution_count": 66,
     "metadata": {},
     "output_type": "execute_result"
    }
   ],
   "source": [
    "getVectorDBInfo.keys()"
   ]
  },
  {
   "cell_type": "code",
   "execution_count": 54,
   "metadata": {},
   "outputs": [
    {
     "name": "stderr",
     "output_type": "stream",
     "text": [
      "24it [00:00, 240821.28it/s]"
     ]
    },
    {
     "name": "stdout",
     "output_type": "stream",
     "text": [
      "f676a69e-1d59-11ee-be65-56cc850cf3bf\n",
      "f676a6f8-1d59-11ee-be65-56cc850cf3bf\n",
      "f676a720-1d59-11ee-be65-56cc850cf3bf\n",
      "f676a748-1d59-11ee-be65-56cc850cf3bf\n",
      "f676a766-1d59-11ee-be65-56cc850cf3bf\n",
      "f676a784-1d59-11ee-be65-56cc850cf3bf\n",
      "f676a7a2-1d59-11ee-be65-56cc850cf3bf\n",
      "f676a7c0-1d59-11ee-be65-56cc850cf3bf\n",
      "5aa40a3c-22f8-11ee-8525-56cc850cf3bf\n",
      "5aa40aa0-22f8-11ee-8525-56cc850cf3bf\n",
      "5aa40ab4-22f8-11ee-8525-56cc850cf3bf\n",
      "5aa40ac8-22f8-11ee-8525-56cc850cf3bf\n",
      "5aa40adc-22f8-11ee-8525-56cc850cf3bf\n",
      "5aa40af0-22f8-11ee-8525-56cc850cf3bf\n",
      "5aa40b04-22f8-11ee-8525-56cc850cf3bf\n",
      "5aa40b18-22f8-11ee-8525-56cc850cf3bf\n",
      "ad193cec-22f8-11ee-8525-56cc850cf3bf\n",
      "ad193d82-22f8-11ee-8525-56cc850cf3bf\n",
      "ad193daa-22f8-11ee-8525-56cc850cf3bf\n",
      "ad193dc8-22f8-11ee-8525-56cc850cf3bf\n",
      "ad193de6-22f8-11ee-8525-56cc850cf3bf\n",
      "ad193e04-22f8-11ee-8525-56cc850cf3bf\n",
      "ad193e22-22f8-11ee-8525-56cc850cf3bf\n",
      "ad193e40-22f8-11ee-8525-56cc850cf3bf\n"
     ]
    },
    {
     "name": "stderr",
     "output_type": "stream",
     "text": [
      "\n"
     ]
    }
   ],
   "source": [
    "getVectorDBInfo = doc_vectordb.get(include=['embeddings'])\n",
    "# for ids, vector in zip(getVectorDBInfo['ids'], getVectorDBInfo['embeddings']):\n",
    "for ids, vector in tqdm(zip(getVectorDBInfo['ids'], getVectorDBInfo['embeddings'])):\n",
    "    print(ids)"
   ]
  },
  {
   "cell_type": "code",
   "execution_count": 83,
   "metadata": {},
   "outputs": [],
   "source": [
    "def sim(query):\n",
    "    return doc_vectordb.similarity_search_with_score(query=query, distance_metric=\"cos\", k = 4, include=[ids])"
   ]
  },
  {
   "cell_type": "code",
   "execution_count": 84,
   "metadata": {},
   "outputs": [
    {
     "data": {
      "text/plain": [
       "[(Document(page_content='서울특별시 버스 노선 혼잡도 예측을 통한 다람쥐버스 신규 노선 \\n제안\\n1. 주제 선정 및 자료분석 배경 (주제 선정의 독창성) \\n을지로, 여의도 같은 기업의 밀집도가 높은 지역들의 출퇴근 시간에는 대중교통, 자가용 할 것 없이 모\\n든 이동수단의 포화상태를 볼 수 있다. 출퇴근 시간에서의 교통 혼잡도를 줄이기 위해서 대중교통의 이\\n용을 적극 홍보하고 있지만, 사실상 버스와 지하철을 타지 못하고 몇 대씩 보내고 난 다음에야 탑승할 \\n수 있을 정도로 이용객이 넘쳐난다. 이러한 문제를 해결하기 위해 서울시에서 다람쥐버스의 운행을 시\\n작하였다. 다람쥐버스는 서울시에서 운행하는 출퇴근 맞춤버스로 출퇴근 시간대의 특정 구간에서 발생\\n하는 차내 혼잡을 해소하기 위해 운행하는 순환형 셔틀버스이다. 다람쥐버스라는 이름은 다람쥐가 쳇바\\n퀴 돌듯 짧은 구간을 반복 운행한다고 하여 붙여졌다.\\n2017년 6월에 4개의 노선으로 반년 간의 시범 운행을 한 결과 차내 혼잡을 39.5% 완화하는 효과와 동\\n시에 해당 구간의 전체 버스 이용객이 16.5% 증가하는 효과를 볼 수 있었다. 이러한 결과를 반영하여 \\n2018년에는 3개의 노선이 추가되어 현재는 총 7개의 노선이 운행 중이다.\\n다람쥐버스는 현재 이미 시행 중인 정책이지만 2018년에 국토교통부가 주관한 2018 지속가능 교통도시\\n평가에서 최우수정책으로 선정될 만큼 긍정적인 평가를 받고 있고 타 지역에서의 운행을 기대하는 시민\\n들의 목소리도 높은 것으로 나타났다. 따라서 이번 과제에서 버스 정류소 및 노선별 이용객 수를 예측\\n하고 버스 내 혼잡도를 계산함으로써 가장 큰 효과를 얻을 수 있는 신규 노선을 제안하고자 한다. \\n2. 분석 내용 (자료분석의 우수성, 데이터 활용성)\\n활용데이터\\n『서울시 버스노선별, 정류장별, 시간대별 승·하차 인원 정보』 데이터에서 일별, 시간대별 승·하차 인원을 \\n구하기 위해 출근 시간대인  7시~9시의 승·하차 인원을 추출, 평균을 취하고 연도별 일수로 나누었다.', metadata={'source': 'data/서울특별시 버스노선 혼잡도 예측을 통한 다람쥐버스 신규 노선제안(장려).pdf', 'file_path': 'data/서울특별시 버스노선 혼잡도 예측을 통한 다람쥐버스 신규 노선제안(장려).pdf', 'page': 0, 'total_pages': 5, 'format': 'PDF 1.4', 'title': '', 'author': 'user', 'subject': '', 'keywords': '', 'creator': 'Hwp 2018 10.0.0.9139', 'producer': 'Hancom PDF 1.3.0.538', 'creationDate': \"D:20200724181854+09'00'\", 'modDate': \"D:20200724181854+09'00'\", 'trapped': ''}),\n",
       "  0.5036959052085876),\n",
       " (Document(page_content='서울특별시 버스 노선 혼잡도 예측을 통한 다람쥐버스 신규 노선 \\n제안\\n1. 주제 선정 및 자료분석 배경 (주제 선정의 독창성) \\n을지로, 여의도 같은 기업의 밀집도가 높은 지역들의 출퇴근 시간에는 대중교통, 자가용 할 것 없이 모\\n든 이동수단의 포화상태를 볼 수 있다. 출퇴근 시간에서의 교통 혼잡도를 줄이기 위해서 대중교통의 이\\n용을 적극 홍보하고 있지만, 사실상 버스와 지하철을 타지 못하고 몇 대씩 보내고 난 다음에야 탑승할 \\n수 있을 정도로 이용객이 넘쳐난다. 이러한 문제를 해결하기 위해 서울시에서 다람쥐버스의 운행을 시\\n작하였다. 다람쥐버스는 서울시에서 운행하는 출퇴근 맞춤버스로 출퇴근 시간대의 특정 구간에서 발생\\n하는 차내 혼잡을 해소하기 위해 운행하는 순환형 셔틀버스이다. 다람쥐버스라는 이름은 다람쥐가 쳇바\\n퀴 돌듯 짧은 구간을 반복 운행한다고 하여 붙여졌다.\\n2017년 6월에 4개의 노선으로 반년 간의 시범 운행을 한 결과 차내 혼잡을 39.5% 완화하는 효과와 동\\n시에 해당 구간의 전체 버스 이용객이 16.5% 증가하는 효과를 볼 수 있었다. 이러한 결과를 반영하여 \\n2018년에는 3개의 노선이 추가되어 현재는 총 7개의 노선이 운행 중이다.\\n다람쥐버스는 현재 이미 시행 중인 정책이지만 2018년에 국토교통부가 주관한 2018 지속가능 교통도시\\n평가에서 최우수정책으로 선정될 만큼 긍정적인 평가를 받고 있고 타 지역에서의 운행을 기대하는 시민\\n들의 목소리도 높은 것으로 나타났다. 따라서 이번 과제에서 버스 정류소 및 노선별 이용객 수를 예측\\n하고 버스 내 혼잡도를 계산함으로써 가장 큰 효과를 얻을 수 있는 신규 노선을 제안하고자 한다. \\n2. 분석 내용 (자료분석의 우수성, 데이터 활용성)\\n활용데이터\\n『서울시 버스노선별, 정류장별, 시간대별 승·하차 인원 정보』 데이터에서 일별, 시간대별 승·하차 인원을 \\n구하기 위해 출근 시간대인  7시~9시의 승·하차 인원을 추출, 평균을 취하고 연도별 일수로 나누었다.', metadata={'source': 'data/서울특별시 버스노선 혼잡도 예측을 통한 다람쥐버스 신규 노선제안(장려).pdf', 'file_path': 'data/서울특별시 버스노선 혼잡도 예측을 통한 다람쥐버스 신규 노선제안(장려).pdf', 'page': 0, 'total_pages': 5, 'format': 'PDF 1.4', 'title': '', 'author': 'user', 'subject': '', 'keywords': '', 'creator': 'Hwp 2018 10.0.0.9139', 'producer': 'Hancom PDF 1.3.0.538', 'creationDate': \"D:20200724181854+09'00'\", 'modDate': \"D:20200724181854+09'00'\", 'trapped': ''}),\n",
       "  0.5036959052085876),\n",
       " (Document(page_content='서울특별시 버스 노선 혼잡도 예측을 통한 다람쥐버스 신규 노선 \\n제안\\n1. 주제 선정 및 자료분석 배경 (주제 선정의 독창성) \\n을지로, 여의도 같은 기업의 밀집도가 높은 지역들의 출퇴근 시간에는 대중교통, 자가용 할 것 없이 모\\n든 이동수단의 포화상태를 볼 수 있다. 출퇴근 시간에서의 교통 혼잡도를 줄이기 위해서 대중교통의 이\\n용을 적극 홍보하고 있지만, 사실상 버스와 지하철을 타지 못하고 몇 대씩 보내고 난 다음에야 탑승할 \\n수 있을 정도로 이용객이 넘쳐난다. 이러한 문제를 해결하기 위해 서울시에서 다람쥐버스의 운행을 시\\n작하였다. 다람쥐버스는 서울시에서 운행하는 출퇴근 맞춤버스로 출퇴근 시간대의 특정 구간에서 발생\\n하는 차내 혼잡을 해소하기 위해 운행하는 순환형 셔틀버스이다. 다람쥐버스라는 이름은 다람쥐가 쳇바\\n퀴 돌듯 짧은 구간을 반복 운행한다고 하여 붙여졌다.\\n2017년 6월에 4개의 노선으로 반년 간의 시범 운행을 한 결과 차내 혼잡을 39.5% 완화하는 효과와 동\\n시에 해당 구간의 전체 버스 이용객이 16.5% 증가하는 효과를 볼 수 있었다. 이러한 결과를 반영하여 \\n2018년에는 3개의 노선이 추가되어 현재는 총 7개의 노선이 운행 중이다.\\n다람쥐버스는 현재 이미 시행 중인 정책이지만 2018년에 국토교통부가 주관한 2018 지속가능 교통도시\\n평가에서 최우수정책으로 선정될 만큼 긍정적인 평가를 받고 있고 타 지역에서의 운행을 기대하는 시민\\n들의 목소리도 높은 것으로 나타났다. 따라서 이번 과제에서 버스 정류소 및 노선별 이용객 수를 예측\\n하고 버스 내 혼잡도를 계산함으로써 가장 큰 효과를 얻을 수 있는 신규 노선을 제안하고자 한다. \\n2. 분석 내용 (자료분석의 우수성, 데이터 활용성)\\n활용데이터\\n『서울시 버스노선별, 정류장별, 시간대별 승·하차 인원 정보』 데이터에서 일별, 시간대별 승·하차 인원을 \\n구하기 위해 출근 시간대인  7시~9시의 승·하차 인원을 추출, 평균을 취하고 연도별 일수로 나누었다.', metadata={'source': 'data/서울특별시 버스노선 혼잡도 예측을 통한 다람쥐버스 신규 노선제안(장려).pdf', 'file_path': 'data/서울특별시 버스노선 혼잡도 예측을 통한 다람쥐버스 신규 노선제안(장려).pdf', 'page': 0, 'total_pages': 5, 'format': 'PDF 1.4', 'title': '', 'author': 'user', 'subject': '', 'keywords': '', 'creator': 'Hwp 2018 10.0.0.9139', 'producer': 'Hancom PDF 1.3.0.538', 'creationDate': \"D:20200724181854+09'00'\", 'modDate': \"D:20200724181854+09'00'\", 'trapped': ''}),\n",
       "  0.5036959052085876),\n",
       " (Document(page_content='2. 분석 내용 (자료분석의 우수성, 데이터 활용성)\\n활용데이터\\n『서울시 버스노선별, 정류장별, 시간대별 승·하차 인원 정보』 데이터에서 일별, 시간대별 승·하차 인원을 \\n구하기 위해 출근 시간대인  7시~9시의 승·하차 인원을 추출, 평균을 취하고 연도별 일수로 나누었다. \\n『stationList』, 『busStationbyRouteList』에서 얻은 버스정류장의 위·경도를 위에서 만든 버스 데이터에 \\n합치고, (승차 인원 – 하차 인원)/(60 / 배차간격) 식을 이용하여 버스 한 대별 순승차인원을 구하고, \\n(버스 별 누적 탑승인원 / 60) * 100 식으로 혼잡도지표를 생성하였다. 지역별 인구정보를 활용하기 \\n위해 Python의 selenium을 이용하여 정류소별 행정동 주소를 네이버 지도에서 크롤링하고, 이 주소와 \\n『서울시 동별 사업체 및 종사자 밀도 통계』 이용하여 행정동별 총 인구수, 사업체 수, 종사자 수 \\n데이터를 합쳤다. 정류소번호의 위·경도 데이터와 『구/동 별 주거 지역, 상업지역』, 『학교 정보』 \\n데이터를 이용하여 반경 500m 내 상업지구, 주거지구 수와 중·고·대학교·대학원 수, 그 학교에 다니는 \\n학생(재적학생) 수, 교사(교수) 수를 합쳤다. 또한 『지하철 역별 시간대별 승·하차 인원수』 데이터를 \\n이용하여 가장 가까운 지하철역의 출근 시간대 평균 승, 하차 정보와 해당 지하철역을 다니는 호선 \\n수를 합쳤다. 마지막으로 통계빅데이터센터 『기초정보_인구집중유발시설』 데이터에서 대형유통점, \\n백화점, 숙박시설의 자료만을 추출하여 버스정류장의 반경 500m 내에 있는 시설의 수를 추가하였다.\\nMODELING\\n모델링을 하기에 앞서 기준을 세우기 위해 다음과 같이 설명변수를 전혀 넣지 않은, 랜덤으로 순승차량\\n을 예측했을 때의 RMSE값을 구했다. 또한 y변수인 순승차량의 분포를 그래프로 나타냈다. \\n데이터명\\nSource\\n비고\\n서울시 버스노선별, 정류장별, \\n시간대별 승·하차 인원 정보\\n서울열린데이터광장\\n기본 데이터', metadata={'source': 'data/서울특별시 버스노선 혼잡도 예측을 통한 다람쥐버스 신규 노선제안(장려).pdf', 'file_path': 'data/서울특별시 버스노선 혼잡도 예측을 통한 다람쥐버스 신규 노선제안(장려).pdf', 'page': 0, 'total_pages': 5, 'format': 'PDF 1.4', 'title': '', 'author': 'user', 'subject': '', 'keywords': '', 'creator': 'Hwp 2018 10.0.0.9139', 'producer': 'Hancom PDF 1.3.0.538', 'creationDate': \"D:20200724181854+09'00'\", 'modDate': \"D:20200724181854+09'00'\", 'trapped': ''}),\n",
       "  0.5185718536376953)]"
      ]
     },
     "execution_count": 84,
     "metadata": {},
     "output_type": "execute_result"
    }
   ],
   "source": [
    "k = sim('query')\n",
    "k"
   ]
  },
  {
   "cell_type": "code",
   "execution_count": 70,
   "metadata": {},
   "outputs": [],
   "source": [
    "resList = k"
   ]
  },
  {
   "cell_type": "code",
   "execution_count": 81,
   "metadata": {},
   "outputs": [
    {
     "data": {
      "text/plain": [
       "[(Document(page_content='서울특별시 버스 노선 혼잡도 예측을 통한 다람쥐버스 신규 노선 \\n제안\\n1. 주제 선정 및 자료분석 배경 (주제 선정의 독창성) \\n을지로, 여의도 같은 기업의 밀집도가 높은 지역들의 출퇴근 시간에는 대중교통, 자가용 할 것 없이 모\\n든 이동수단의 포화상태를 볼 수 있다. 출퇴근 시간에서의 교통 혼잡도를 줄이기 위해서 대중교통의 이\\n용을 적극 홍보하고 있지만, 사실상 버스와 지하철을 타지 못하고 몇 대씩 보내고 난 다음에야 탑승할 \\n수 있을 정도로 이용객이 넘쳐난다. 이러한 문제를 해결하기 위해 서울시에서 다람쥐버스의 운행을 시\\n작하였다. 다람쥐버스는 서울시에서 운행하는 출퇴근 맞춤버스로 출퇴근 시간대의 특정 구간에서 발생\\n하는 차내 혼잡을 해소하기 위해 운행하는 순환형 셔틀버스이다. 다람쥐버스라는 이름은 다람쥐가 쳇바\\n퀴 돌듯 짧은 구간을 반복 운행한다고 하여 붙여졌다.\\n2017년 6월에 4개의 노선으로 반년 간의 시범 운행을 한 결과 차내 혼잡을 39.5% 완화하는 효과와 동\\n시에 해당 구간의 전체 버스 이용객이 16.5% 증가하는 효과를 볼 수 있었다. 이러한 결과를 반영하여 \\n2018년에는 3개의 노선이 추가되어 현재는 총 7개의 노선이 운행 중이다.\\n다람쥐버스는 현재 이미 시행 중인 정책이지만 2018년에 국토교통부가 주관한 2018 지속가능 교통도시\\n평가에서 최우수정책으로 선정될 만큼 긍정적인 평가를 받고 있고 타 지역에서의 운행을 기대하는 시민\\n들의 목소리도 높은 것으로 나타났다. 따라서 이번 과제에서 버스 정류소 및 노선별 이용객 수를 예측\\n하고 버스 내 혼잡도를 계산함으로써 가장 큰 효과를 얻을 수 있는 신규 노선을 제안하고자 한다. \\n2. 분석 내용 (자료분석의 우수성, 데이터 활용성)\\n활용데이터\\n『서울시 버스노선별, 정류장별, 시간대별 승·하차 인원 정보』 데이터에서 일별, 시간대별 승·하차 인원을 \\n구하기 위해 출근 시간대인  7시~9시의 승·하차 인원을 추출, 평균을 취하고 연도별 일수로 나누었다.', metadata={'source': 'data/서울특별시 버스노선 혼잡도 예측을 통한 다람쥐버스 신규 노선제안(장려).pdf', 'file_path': 'data/서울특별시 버스노선 혼잡도 예측을 통한 다람쥐버스 신규 노선제안(장려).pdf', 'page': 0, 'total_pages': 5, 'format': 'PDF 1.4', 'title': '', 'author': 'user', 'subject': '', 'keywords': '', 'creator': 'Hwp 2018 10.0.0.9139', 'producer': 'Hancom PDF 1.3.0.538', 'creationDate': \"D:20200724181854+09'00'\", 'modDate': \"D:20200724181854+09'00'\", 'trapped': ''}),\n",
       "  0.5001831650733948),\n",
       " (Document(page_content='서울특별시 버스 노선 혼잡도 예측을 통한 다람쥐버스 신규 노선 \\n제안\\n1. 주제 선정 및 자료분석 배경 (주제 선정의 독창성) \\n을지로, 여의도 같은 기업의 밀집도가 높은 지역들의 출퇴근 시간에는 대중교통, 자가용 할 것 없이 모\\n든 이동수단의 포화상태를 볼 수 있다. 출퇴근 시간에서의 교통 혼잡도를 줄이기 위해서 대중교통의 이\\n용을 적극 홍보하고 있지만, 사실상 버스와 지하철을 타지 못하고 몇 대씩 보내고 난 다음에야 탑승할 \\n수 있을 정도로 이용객이 넘쳐난다. 이러한 문제를 해결하기 위해 서울시에서 다람쥐버스의 운행을 시\\n작하였다. 다람쥐버스는 서울시에서 운행하는 출퇴근 맞춤버스로 출퇴근 시간대의 특정 구간에서 발생\\n하는 차내 혼잡을 해소하기 위해 운행하는 순환형 셔틀버스이다. 다람쥐버스라는 이름은 다람쥐가 쳇바\\n퀴 돌듯 짧은 구간을 반복 운행한다고 하여 붙여졌다.\\n2017년 6월에 4개의 노선으로 반년 간의 시범 운행을 한 결과 차내 혼잡을 39.5% 완화하는 효과와 동\\n시에 해당 구간의 전체 버스 이용객이 16.5% 증가하는 효과를 볼 수 있었다. 이러한 결과를 반영하여 \\n2018년에는 3개의 노선이 추가되어 현재는 총 7개의 노선이 운행 중이다.\\n다람쥐버스는 현재 이미 시행 중인 정책이지만 2018년에 국토교통부가 주관한 2018 지속가능 교통도시\\n평가에서 최우수정책으로 선정될 만큼 긍정적인 평가를 받고 있고 타 지역에서의 운행을 기대하는 시민\\n들의 목소리도 높은 것으로 나타났다. 따라서 이번 과제에서 버스 정류소 및 노선별 이용객 수를 예측\\n하고 버스 내 혼잡도를 계산함으로써 가장 큰 효과를 얻을 수 있는 신규 노선을 제안하고자 한다. \\n2. 분석 내용 (자료분석의 우수성, 데이터 활용성)\\n활용데이터\\n『서울시 버스노선별, 정류장별, 시간대별 승·하차 인원 정보』 데이터에서 일별, 시간대별 승·하차 인원을 \\n구하기 위해 출근 시간대인  7시~9시의 승·하차 인원을 추출, 평균을 취하고 연도별 일수로 나누었다.', metadata={'source': 'data/서울특별시 버스노선 혼잡도 예측을 통한 다람쥐버스 신규 노선제안(장려).pdf', 'file_path': 'data/서울특별시 버스노선 혼잡도 예측을 통한 다람쥐버스 신규 노선제안(장려).pdf', 'page': 0, 'total_pages': 5, 'format': 'PDF 1.4', 'title': '', 'author': 'user', 'subject': '', 'keywords': '', 'creator': 'Hwp 2018 10.0.0.9139', 'producer': 'Hancom PDF 1.3.0.538', 'creationDate': \"D:20200724181854+09'00'\", 'modDate': \"D:20200724181854+09'00'\", 'trapped': ''}),\n",
       "  0.5001831650733948),\n",
       " (Document(page_content='서울특별시 버스 노선 혼잡도 예측을 통한 다람쥐버스 신규 노선 \\n제안\\n1. 주제 선정 및 자료분석 배경 (주제 선정의 독창성) \\n을지로, 여의도 같은 기업의 밀집도가 높은 지역들의 출퇴근 시간에는 대중교통, 자가용 할 것 없이 모\\n든 이동수단의 포화상태를 볼 수 있다. 출퇴근 시간에서의 교통 혼잡도를 줄이기 위해서 대중교통의 이\\n용을 적극 홍보하고 있지만, 사실상 버스와 지하철을 타지 못하고 몇 대씩 보내고 난 다음에야 탑승할 \\n수 있을 정도로 이용객이 넘쳐난다. 이러한 문제를 해결하기 위해 서울시에서 다람쥐버스의 운행을 시\\n작하였다. 다람쥐버스는 서울시에서 운행하는 출퇴근 맞춤버스로 출퇴근 시간대의 특정 구간에서 발생\\n하는 차내 혼잡을 해소하기 위해 운행하는 순환형 셔틀버스이다. 다람쥐버스라는 이름은 다람쥐가 쳇바\\n퀴 돌듯 짧은 구간을 반복 운행한다고 하여 붙여졌다.\\n2017년 6월에 4개의 노선으로 반년 간의 시범 운행을 한 결과 차내 혼잡을 39.5% 완화하는 효과와 동\\n시에 해당 구간의 전체 버스 이용객이 16.5% 증가하는 효과를 볼 수 있었다. 이러한 결과를 반영하여 \\n2018년에는 3개의 노선이 추가되어 현재는 총 7개의 노선이 운행 중이다.\\n다람쥐버스는 현재 이미 시행 중인 정책이지만 2018년에 국토교통부가 주관한 2018 지속가능 교통도시\\n평가에서 최우수정책으로 선정될 만큼 긍정적인 평가를 받고 있고 타 지역에서의 운행을 기대하는 시민\\n들의 목소리도 높은 것으로 나타났다. 따라서 이번 과제에서 버스 정류소 및 노선별 이용객 수를 예측\\n하고 버스 내 혼잡도를 계산함으로써 가장 큰 효과를 얻을 수 있는 신규 노선을 제안하고자 한다. \\n2. 분석 내용 (자료분석의 우수성, 데이터 활용성)\\n활용데이터\\n『서울시 버스노선별, 정류장별, 시간대별 승·하차 인원 정보』 데이터에서 일별, 시간대별 승·하차 인원을 \\n구하기 위해 출근 시간대인  7시~9시의 승·하차 인원을 추출, 평균을 취하고 연도별 일수로 나누었다.', metadata={'source': 'data/서울특별시 버스노선 혼잡도 예측을 통한 다람쥐버스 신규 노선제안(장려).pdf', 'file_path': 'data/서울특별시 버스노선 혼잡도 예측을 통한 다람쥐버스 신규 노선제안(장려).pdf', 'page': 0, 'total_pages': 5, 'format': 'PDF 1.4', 'title': '', 'author': 'user', 'subject': '', 'keywords': '', 'creator': 'Hwp 2018 10.0.0.9139', 'producer': 'Hancom PDF 1.3.0.538', 'creationDate': \"D:20200724181854+09'00'\", 'modDate': \"D:20200724181854+09'00'\", 'trapped': ''}),\n",
       "  0.5001831650733948),\n",
       " (Document(page_content='2. 분석 내용 (자료분석의 우수성, 데이터 활용성)\\n활용데이터\\n『서울시 버스노선별, 정류장별, 시간대별 승·하차 인원 정보』 데이터에서 일별, 시간대별 승·하차 인원을 \\n구하기 위해 출근 시간대인  7시~9시의 승·하차 인원을 추출, 평균을 취하고 연도별 일수로 나누었다. \\n『stationList』, 『busStationbyRouteList』에서 얻은 버스정류장의 위·경도를 위에서 만든 버스 데이터에 \\n합치고, (승차 인원 – 하차 인원)/(60 / 배차간격) 식을 이용하여 버스 한 대별 순승차인원을 구하고, \\n(버스 별 누적 탑승인원 / 60) * 100 식으로 혼잡도지표를 생성하였다. 지역별 인구정보를 활용하기 \\n위해 Python의 selenium을 이용하여 정류소별 행정동 주소를 네이버 지도에서 크롤링하고, 이 주소와 \\n『서울시 동별 사업체 및 종사자 밀도 통계』 이용하여 행정동별 총 인구수, 사업체 수, 종사자 수 \\n데이터를 합쳤다. 정류소번호의 위·경도 데이터와 『구/동 별 주거 지역, 상업지역』, 『학교 정보』 \\n데이터를 이용하여 반경 500m 내 상업지구, 주거지구 수와 중·고·대학교·대학원 수, 그 학교에 다니는 \\n학생(재적학생) 수, 교사(교수) 수를 합쳤다. 또한 『지하철 역별 시간대별 승·하차 인원수』 데이터를 \\n이용하여 가장 가까운 지하철역의 출근 시간대 평균 승, 하차 정보와 해당 지하철역을 다니는 호선 \\n수를 합쳤다. 마지막으로 통계빅데이터센터 『기초정보_인구집중유발시설』 데이터에서 대형유통점, \\n백화점, 숙박시설의 자료만을 추출하여 버스정류장의 반경 500m 내에 있는 시설의 수를 추가하였다.\\nMODELING\\n모델링을 하기에 앞서 기준을 세우기 위해 다음과 같이 설명변수를 전혀 넣지 않은, 랜덤으로 순승차량\\n을 예측했을 때의 RMSE값을 구했다. 또한 y변수인 순승차량의 분포를 그래프로 나타냈다. \\n데이터명\\nSource\\n비고\\n서울시 버스노선별, 정류장별, \\n시간대별 승·하차 인원 정보\\n서울열린데이터광장\\n기본 데이터', metadata={'source': 'data/서울특별시 버스노선 혼잡도 예측을 통한 다람쥐버스 신규 노선제안(장려).pdf', 'file_path': 'data/서울특별시 버스노선 혼잡도 예측을 통한 다람쥐버스 신규 노선제안(장려).pdf', 'page': 0, 'total_pages': 5, 'format': 'PDF 1.4', 'title': '', 'author': 'user', 'subject': '', 'keywords': '', 'creator': 'Hwp 2018 10.0.0.9139', 'producer': 'Hancom PDF 1.3.0.538', 'creationDate': \"D:20200724181854+09'00'\", 'modDate': \"D:20200724181854+09'00'\", 'trapped': ''}),\n",
       "  0.515242338180542)]"
      ]
     },
     "execution_count": 81,
     "metadata": {},
     "output_type": "execute_result"
    }
   ],
   "source": [
    "resList"
   ]
  },
  {
   "cell_type": "code",
   "execution_count": 74,
   "metadata": {},
   "outputs": [
    {
     "ename": "NameError",
     "evalue": "name 'checkDoc' is not defined",
     "output_type": "error",
     "traceback": [
      "\u001b[0;31m---------------------------------------------------------------------------\u001b[0m",
      "\u001b[0;31mNameError\u001b[0m                                 Traceback (most recent call last)",
      "Cell \u001b[0;32mIn[74], line 4\u001b[0m\n\u001b[1;32m      1\u001b[0m analysis_format \u001b[39m=\u001b[39m \u001b[39mf\u001b[39m\u001b[39m\"\"\"\u001b[39m\u001b[39mformat\u001b[39m\u001b[39m\"\"\"\u001b[39m\n\u001b[1;32m      2\u001b[0m analysis_prompt \u001b[39m=\u001b[39m \u001b[39mf\u001b[39m\u001b[39m\"\"\"\u001b[39m\u001b[39m당신은 표절 검사 분석 전문가입니다. 표절 검사를 진행한 결과, 특정 비교 문서와 유사하다는 결과가 나왔습니다.\u001b[39m\n\u001b[1;32m      3\u001b[0m \u001b[39m세 개의 역 따옴표, 세 개의 따옴표, 세 개의 큰 따옴표로 구분된 각 텍스트들은 검사 문서 중 일부분,비교 문서 중 일부분, 분석 결과 보고서 포맷입니다.\u001b[39m\n\u001b[0;32m----> 4\u001b[0m \u001b[39m분석 결과 보고서 작성해주세요.\u001b[39m\u001b[39m\\n\u001b[39;00m\u001b[39m```\u001b[39m\u001b[39m{\u001b[39;00mcheckDoc\u001b[39m}\u001b[39;00m\u001b[39m```\u001b[39m\u001b[39m\\n\u001b[39;00m\u001b[39m\\'\u001b[39;00m\u001b[39m\\'\u001b[39;00m\u001b[39m\\'\u001b[39;00m\u001b[39m{\u001b[39;49;00mcomparisonDoc\u001b[39m}\u001b[39;00m\u001b[39m\\'\u001b[39;00m\u001b[39m\\'\u001b[39;00m\u001b[39m\\'\u001b[39;00m\u001b[39m\\n\u001b[39;00m\u001b[39m\\\"\u001b[39;00m\u001b[39m\\\"\u001b[39;00m\u001b[39m\\\"\u001b[39;00m\u001b[39m{\u001b[39;00mf\u001b[39m}\u001b[39;00m\u001b[39m\\\"\u001b[39;00m\u001b[39m\\\"\u001b[39;00m\u001b[39m\\\"\u001b[39;00m\u001b[39m\"\"\"\u001b[39m\n",
      "\u001b[0;31mNameError\u001b[0m: name 'checkDoc' is not defined"
     ]
    }
   ],
   "source": [
    "# analysis_format = f\"\"\"format\"\"\"\n",
    "# analysis_prompt = f\"\"\"당신은 표절 검사 분석 전문가입니다. 표절 검사를 진행한 결과, 특정 비교 문서와 유사하다는 결과가 나왔습니다.\n",
    "# 세 개의 역 따옴표, 세 개의 따옴표, 세 개의 큰 따옴표로 구분된 각 텍스트들은 검사 문서 중 일부분,비교 문서 중 일부분, 분석 결과 보고서 포맷입니다.\n",
    "# 분석 결과 보고서 작성해주세요.\\n```{checkDoc}```\\n\\'\\'\\'{comparisonDoc}\\'\\'\\'\\n\\\"\\\"\\\"{f}\\\"\\\"\\\"\"\"\""
   ]
  },
  {
   "cell_type": "code",
   "execution_count": null,
   "metadata": {},
   "outputs": [],
   "source": [
    "# You are an expert in plagiarism check analysis. You ran a plagiarism check and found that the document is similar to certain comparison documents.\n",
    "# The text separated by three inverted quotation marks, three quotation marks, and three double quotation marks is an excerpt from the checked document, an excerpt from the comparison document, and the format of the analysis results report.\n",
    "# Please create a report of the analysis results.\\n```{checkDoc}```\\n\\'\\'\\'{comparisonDoc}\\'\\'\\'\\'\\n\\\"\\\"\\\"{f}\\\"\\\"\\\""
   ]
  },
  {
   "cell_type": "code",
   "execution_count": 80,
   "metadata": {},
   "outputs": [
    {
     "name": "stdout",
     "output_type": "stream",
     "text": [
      "1173\n",
      "1173\n",
      "1173\n",
      "1187\n"
     ]
    }
   ],
   "source": [
    "analysis_format = f\"\"\"format\"\"\"\n",
    "for doc, score in resList:\n",
    "    comparisonDoc = doc.page_content\n",
    "    # checkDoc = document\n",
    "    checkDoc = \"hi\"\n",
    "    analysis_prompt = f\"\"\"당신은 표절 검사 분석 전문가입니다. 표절 검사를 진행한 결과, 특정 비교 문서와 유사하다는 결과가 나왔습니다.\n",
    "세 개의 역 따옴표, 세 개의 따옴표, 세 개의 큰 따옴표로 구분된 각 텍스트들은 검사 문서 중 일부분,비교 문서 중 일부분, 분석 결과 보고서 포맷입니다.\n",
    "분석 결과 보고서 작성해주세요.\\n```{checkDoc}```\\n\\'\\'\\'{comparisonDoc}\\'\\'\\'\\n\\\"\\\"\\\"{analysis_format}\\\"\\\"\\\"\"\"\"\n",
    "    print(len(analysis_prompt))"
   ]
  },
  {
   "cell_type": "code",
   "execution_count": 85,
   "metadata": {},
   "outputs": [],
   "source": [
    "resList = []\n",
    "for doc in docs:\n",
    "    for r in retriever.get_relevant_documents(doc.page_content):\n",
    "        resList.append((doc, r))"
   ]
  },
  {
   "cell_type": "code",
   "execution_count": 103,
   "metadata": {},
   "outputs": [
    {
     "name": "stdout",
     "output_type": "stream",
     "text": [
      "세 개의 역 따옴표를 구분된 텍스트 2개는 어떠한 부분에서 비슷하다고 유사하다고 할 수 있나요?\n",
      "    \n",
      "    ```서울특별시 버스 노선 혼잡도 예측을 ```\n",
      "    ```서울특별시 버스 노선 혼잡도 예측을 ```\n",
      "    \n"
     ]
    }
   ],
   "source": [
    "for original, why in resList[:1]:\n",
    "    # print(original.page_content[:20], why.page_content[:20])\n",
    "    o = original.page_content[:20]\n",
    "    w = why.page_content[:20]\n",
    "    prompt = f\"\"\"세 개의 역 따옴표를 구분된 텍스트 2개는 어떠한 부분에서 비슷하다고 유사하다고 할 수 있나요?\n",
    "    \n",
    "    ```{o}```\n",
    "    ```{w}```\n",
    "    \"\"\"\n",
    "    print(prompt)"
   ]
  },
  {
   "attachments": {},
   "cell_type": "markdown",
   "metadata": {},
   "source": [
    "## 요약"
   ]
  },
  {
   "cell_type": "code",
   "execution_count": null,
   "metadata": {},
   "outputs": [],
   "source": [
    "from langchain.chains.summarize import load_summarize_chain\n",
    "\n",
    "llm = OpenAI(temperature=0)\n",
    "chain = load_summarize_chain(llm, \n",
    "                             chain_type=\"map_reduce\",\n",
    "                             verbose = False)\n",
    "\n",
    "output_summary = chain.run(docs)"
   ]
  }
 ],
 "metadata": {
  "kernelspec": {
   "display_name": ".venv",
   "language": "python",
   "name": "python3"
  },
  "language_info": {
   "codemirror_mode": {
    "name": "ipython",
    "version": 3
   },
   "file_extension": ".py",
   "mimetype": "text/x-python",
   "name": "python",
   "nbconvert_exporter": "python",
   "pygments_lexer": "ipython3",
   "version": "3.9.16"
  },
  "orig_nbformat": 4
 },
 "nbformat": 4,
 "nbformat_minor": 2
}
