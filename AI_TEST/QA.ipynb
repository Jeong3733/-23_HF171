{
 "cells": [
  {
   "cell_type": "code",
   "execution_count": 1,
   "metadata": {},
   "outputs": [],
   "source": [
    "import langchain"
   ]
  },
  {
   "cell_type": "code",
   "execution_count": 4,
   "metadata": {},
   "outputs": [],
   "source": [
    "# !pip -q install langchain openai tiktoken chromadb python-dotenv"
   ]
  },
  {
   "cell_type": "code",
   "execution_count": 52,
   "metadata": {},
   "outputs": [],
   "source": [
    "# !pip install PyMuPDF"
   ]
  },
  {
   "cell_type": "code",
   "execution_count": 1,
   "metadata": {},
   "outputs": [
    {
     "data": {
      "text/plain": [
       "True"
      ]
     },
     "execution_count": 1,
     "metadata": {},
     "output_type": "execute_result"
    }
   ],
   "source": [
    "import os\n",
    "\n",
    "from collections import defaultdict\n",
    "import tiktoken\n",
    "\n",
    "def num_tokens_from_string(string: str, encoding_name: str='cl100k_base') -> int:\n",
    "    \"\"\"Returns the number of tokens in a text string.\"\"\"\n",
    "    encoding = tiktoken.get_encoding(encoding_name)\n",
    "    num_tokens = len(encoding.encode(string))\n",
    "    return num_tokens\n",
    "\n",
    "from dotenv import load_dotenv\n",
    "\n",
    "load_dotenv()\n",
    "# os.environ[\"OPENAI_API_KEY\"] = \"\""
   ]
  },
  {
   "cell_type": "code",
   "execution_count": 2,
   "metadata": {},
   "outputs": [],
   "source": [
    "from langchain.vectorstores import Chroma\n",
    "from langchain.embeddings import OpenAIEmbeddings\n",
    "from langchain.text_splitter import RecursiveCharacterTextSplitter\n",
    "from langchain.llms import OpenAI\n",
    "from langchain.chains import RetrievalQA\n",
    "from langchain.document_loaders import PyMuPDFLoader\n",
    "from langchain.document_loaders import DirectoryLoader"
   ]
  },
  {
   "cell_type": "code",
   "execution_count": 3,
   "metadata": {},
   "outputs": [],
   "source": [
    "# Load and process the text files\n",
    "# loader = TextLoader('single_text_file.txt')\n",
    "# loader = DirectoryLoader('./data/', glob=\"./*.pdf\", loader_cls=PyMuPDFLoader)\n",
    "file_path='data/서울특별시 버스노선 혼잡도 예측을 통한 다람쥐버스 신규 노선제안(장려).pdf'\n",
    "loader = PyMuPDFLoader(file_path=file_path)\n",
    "documents = loader.load()"
   ]
  },
  {
   "cell_type": "code",
   "execution_count": 43,
   "metadata": {},
   "outputs": [
    {
     "data": {
      "text/plain": [
       "'서울특별시 버스 노선 혼잡도 예측을 통한 다람쥐버스 신규 노선 \\n제안\\n1. 주제 선정 및 자료분석 배경 (주제 선정의 독창성) \\n을지로, 여의도 같은 기업의 밀집도가 높은 지역들의 출퇴근 시간에는 대중교통, 자가용 할 것 없이 모\\n든 이동수단의 포화상태를 볼 수 있다. 출퇴근 시간에서의 교통 혼잡도를 줄이기 위해서 대중교통의 이\\n용을 적극 홍보하고 있지만, 사실상 버스와 지하철을 타지 못하고 몇 대씩 보내고 난 다음에야 탑승할 \\n수 있을 정도로 이용객이 넘쳐난다. 이러한 문제를 해결하기 위해 서울시에서 다람쥐버스의 운행을 시\\n작하였다. 다람쥐버스는 서울시에서 운행하는 출퇴근 맞춤버스로 출퇴근 시간대의 특정 구간에서 발생\\n하는 차내 혼잡을 해소하기 위해 운행하는 순환형 셔틀버스이다. 다람쥐버스라는 이름은 다람쥐가 쳇바\\n퀴 돌듯 짧은 구간을 반복 운행한다고 하여 붙여졌다.\\n2017년 6월에 4개의 노선으로 반년 간의 시범 운행을 한 결과 차내 혼잡을 39.5% 완화하는 효과와 동\\n시에 해당 구간의 전체 버스 이용객이 16.5% 증가하는 효과를 볼 수 있었다. 이러한 결과를 반영하여 \\n2018년에는 3개의 노선이 추가되어 현재는 총 7개의 노선이 운행 중이다.\\n다람쥐버스는 현재 이미 시행 중인 정책이지만 2018년에 국토교통부가 주관한 2018 지속가능 교통도시\\n평가에서 최우수정책으로 선정될 만큼 긍정적인 평가를 받고 있고 타 지역에서의 운행을 기대하는 시민\\n들의 목소리도 높은 것으로 나타났다. 따라서 이번 과제에서 버스 정류소 및 노선별 이용객 수를 예측\\n하고 버스 내 혼잡도를 계산함으로써 가장 큰 효과를 얻을 수 있는 신규 노선을 제안하고자 한다. \\n2. 분석 내용 (자료분석의 우수성, 데이터 활용성)\\n활용데이터\\n『서울시 버스노선별, 정류장별, 시간대별 승·하차 인원 정보』 데이터에서 일별, 시간대별 승·하차 인원을 \\n구하기 위해 출근 시간대인  7시~9시의 승·하차 인원을 추출, 평균을 취하고 연도별 일수로 나누었다. \\n『stationList』, 『busStationbyRouteList』에서 얻은 버스정류장의 위·경도를 위에서 만든 버스 데이터에 \\n합치고, (승차 인원 – 하차 인원)/(60 / 배차간격) 식을 이용하여 버스 한 대별 순승차인원을 구하고, \\n(버스 별 누적 탑승인원 / 60) * 100 식으로 혼잡도지표를 생성하였다. 지역별 인구정보를 활용하기 \\n위해 Python의 selenium을 이용하여 정류소별 행정동 주소를 네이버 지도에서 크롤링하고, 이 주소와 \\n『서울시 동별 사업체 및 종사자 밀도 통계』 이용하여 행정동별 총 인구수, 사업체 수, 종사자 수 \\n데이터를 합쳤다. 정류소번호의 위·경도 데이터와 『구/동 별 주거 지역, 상업지역』, 『학교 정보』 \\n데이터를 이용하여 반경 500m 내 상업지구, 주거지구 수와 중·고·대학교·대학원 수, 그 학교에 다니는 \\n학생(재적학생) 수, 교사(교수) 수를 합쳤다. 또한 『지하철 역별 시간대별 승·하차 인원수』 데이터를 \\n이용하여 가장 가까운 지하철역의 출근 시간대 평균 승, 하차 정보와 해당 지하철역을 다니는 호선 \\n수를 합쳤다. 마지막으로 통계빅데이터센터 『기초정보_인구집중유발시설』 데이터에서 대형유통점, \\n백화점, 숙박시설의 자료만을 추출하여 버스정류장의 반경 500m 내에 있는 시설의 수를 추가하였다.\\nMODELING\\n모델링을 하기에 앞서 기준을 세우기 위해 다음과 같이 설명변수를 전혀 넣지 않은, 랜덤으로 순승차량\\n을 예측했을 때의 RMSE값을 구했다. 또한 y변수인 순승차량의 분포를 그래프로 나타냈다. \\n데이터명\\nSource\\n비고\\n서울시 버스노선별, 정류장별, \\n시간대별 승·하차 인원 정보\\n서울열린데이터광장\\n기본 데이터\\nstationList\\n공공데이터포털 API\\n정류장별 위·경도 자료 사용\\nbusStationbyRouteList\\n공공데이터포털 API\\n노선 및 정류장 별 정보 이용\\n서울시 동별 사업체 및 종사자 밀도 \\n통계\\n서울열린데이터광장\\n정류장 주변 인구 밀도 정보\\n구/동 별 주거 지역, 상업지역\\n서울열린데이터광장\\n정류장 주변 환경 정보\\n지하철 역별 시간대별 승하차 인원수\\n공공데이터포털(file)\\n가까운 지하철역 승하차 수\\n학교 정보(중·고·대학교·대학원)\\nK-ICT 빅데이터센터\\n학교 별 학생 및 교직원 수\\n기초정보_인구집중유발시설(2018.7)\\n통계빅데이터센터\\n대형유통점, 백화점, 숙박시설의 수\\n기본\\nRMSE\\nrandom\\n3.761407\\n'"
      ]
     },
     "execution_count": 43,
     "metadata": {},
     "output_type": "execute_result"
    }
   ],
   "source": [
    "documents[0].page_content"
   ]
  },
  {
   "cell_type": "code",
   "execution_count": 30,
   "metadata": {},
   "outputs": [],
   "source": [
    "# https://github.com/openai/tiktoken/blob/main/tiktoken/model.py\n",
    "# MODEL_TO_ENCODING: dict[str, str] = {\n",
    "#     # chat\n",
    "#     \"gpt-4\": \"cl100k_base\",\n",
    "#     \"gpt-3.5-turbo\": \"cl100k_base\",\n",
    "#     \"gpt-35-turbo\": \"cl100k_base\",  # Azure deployment name\n",
    "#     # text\n",
    "#     \"text-davinci-003\": \"p50k_base\",\n",
    "#     \"text-davinci-002\": \"p50k_base\",\n",
    "#     \"text-davinci-001\": \"r50k_base\",\n",
    "#     \"text-curie-001\": \"r50k_base\",\n",
    "#     \"text-babbage-001\": \"r50k_base\",\n",
    "#     \"text-ada-001\": \"r50k_base\",\n",
    "#     \"davinci\": \"r50k_base\",\n",
    "#     \"curie\": \"r50k_base\",\n",
    "#     \"babbage\": \"r50k_base\",\n",
    "#     \"ada\": \"r50k_base\",\n",
    "#     # code\n",
    "#     \"code-davinci-002\": \"p50k_base\",\n",
    "#     \"code-davinci-001\": \"p50k_base\",\n",
    "#     \"code-cushman-002\": \"p50k_base\",\n",
    "#     \"code-cushman-001\": \"p50k_base\",\n",
    "#     \"davinci-codex\": \"p50k_base\",\n",
    "#     \"cushman-codex\": \"p50k_base\",\n",
    "#     # edit\n",
    "#     \"text-davinci-edit-001\": \"p50k_edit\",\n",
    "#     \"code-davinci-edit-001\": \"p50k_edit\",\n",
    "#     # embeddings\n",
    "#     \"text-embedding-ada-002\": \"cl100k_base\",\n",
    "#     # old embeddings\n",
    "#     \"text-similarity-davinci-001\": \"r50k_base\",\n",
    "#     \"text-similarity-curie-001\": \"r50k_base\",\n",
    "#     \"text-similarity-babbage-001\": \"r50k_base\",\n",
    "#     \"text-similarity-ada-001\": \"r50k_base\",\n",
    "#     \"text-search-davinci-doc-001\": \"r50k_base\",\n",
    "#     \"text-search-curie-doc-001\": \"r50k_base\",\n",
    "#     \"text-search-babbage-doc-001\": \"r50k_base\",\n",
    "#     \"text-search-ada-doc-001\": \"r50k_base\",\n",
    "#     \"code-search-babbage-code-001\": \"r50k_base\",\n",
    "#     \"code-search-ada-code-001\": \"r50k_base\",\n",
    "#     # open source\n",
    "#     \"gpt2\": \"gpt2\",\n",
    "# }"
   ]
  },
  {
   "cell_type": "code",
   "execution_count": 41,
   "metadata": {},
   "outputs": [],
   "source": [
    "from langchain.text_splitter import CharacterTextSplitter\n",
    "\n",
    "text_splitter = RecursiveCharacterTextSplitter.from_tiktoken_encoder(\n",
    "    encoding_name='p50k_base',\n",
    "    chunk_size=1000, chunk_overlap=100,\n",
    "    add_start_index=True)\n",
    "docs = text_splitter.split_documents(documents)"
   ]
  },
  {
   "cell_type": "code",
   "execution_count": 42,
   "metadata": {},
   "outputs": [
    {
     "data": {
      "text/plain": [
       "[Document(page_content='서울특별시 버스 노선 혼잡도 예측을 통한 다람쥐버스 신규 노선 \\n제안\\n1. 주제 선정 및 자료분석 배경 (주제 선정의 독창성) \\n을지로, 여의도 같은 기업의 밀집도가 높은 지역들의 출퇴근 시간에는 대중교통, 자가용 할 것 없이 모\\n든 이동수단의 포화상태를 볼 수 있다. 출퇴근 시간에서의 교통 혼잡도를 줄이기 위해서 대중교통의 이\\n용을 적극 홍보하고 있지만, 사실상 버스와 지하철을 타지 못하고 몇 대씩 보내고 난 다음에야 탑승할 \\n수 있을 정도로 이용객이 넘쳐난다. 이러한 문제를 해결하기 위해 서울시에서 다람쥐버스의 운행을 시\\n작하였다. 다람쥐버스는 서울시에서 운행하는 출퇴근 맞춤버스로 출퇴근 시간대의 특정 구간에서 발생\\n하는 차내 혼잡을 해소하기 위해 운행하는 순환형 셔틀버스이다. 다람쥐버스라는 이름은 다람쥐가 쳇바\\n퀴 돌듯 짧은 구간을 반복 운행한다고 하여 붙여졌다.', metadata={'source': 'data/서울특별시 버스노선 혼잡도 예측을 통한 다람쥐버스 신규 노선제안(장려).pdf', 'file_path': 'data/서울특별시 버스노선 혼잡도 예측을 통한 다람쥐버스 신규 노선제안(장려).pdf', 'page': 0, 'total_pages': 5, 'format': 'PDF 1.4', 'title': '', 'author': 'user', 'subject': '', 'keywords': '', 'creator': 'Hwp 2018 10.0.0.9139', 'producer': 'Hancom PDF 1.3.0.538', 'creationDate': \"D:20200724181854+09'00'\", 'modDate': \"D:20200724181854+09'00'\", 'trapped': '', 'start_index': 0}),\n",
       " Document(page_content='퀴 돌듯 짧은 구간을 반복 운행한다고 하여 붙여졌다.\\n2017년 6월에 4개의 노선으로 반년 간의 시범 운행을 한 결과 차내 혼잡을 39.5% 완화하는 효과와 동\\n시에 해당 구간의 전체 버스 이용객이 16.5% 증가하는 효과를 볼 수 있었다. 이러한 결과를 반영하여 \\n2018년에는 3개의 노선이 추가되어 현재는 총 7개의 노선이 운행 중이다.\\n다람쥐버스는 현재 이미 시행 중인 정책이지만 2018년에 국토교통부가 주관한 2018 지속가능 교통도시\\n평가에서 최우수정책으로 선정될 만큼 긍정적인 평가를 받고 있고 타 지역에서의 운행을 기대하는 시민\\n들의 목소리도 높은 것으로 나타났다. 따라서 이번 과제에서 버스 정류소 및 노선별 이용객 수를 예측\\n하고 버스 내 혼잡도를 계산함으로써 가장 큰 효과를 얻을 수 있는 신규 노선을 제안하고자 한다. \\n2. 분석 내용 (자료분석의 우수성, 데이터 활용성)\\n활용데이터', metadata={'source': 'data/서울특별시 버스노선 혼잡도 예측을 통한 다람쥐버스 신규 노선제안(장려).pdf', 'file_path': 'data/서울특별시 버스노선 혼잡도 예측을 통한 다람쥐버스 신규 노선제안(장려).pdf', 'page': 0, 'total_pages': 5, 'format': 'PDF 1.4', 'title': '', 'author': 'user', 'subject': '', 'keywords': '', 'creator': 'Hwp 2018 10.0.0.9139', 'producer': 'Hancom PDF 1.3.0.538', 'creationDate': \"D:20200724181854+09'00'\", 'modDate': \"D:20200724181854+09'00'\", 'trapped': '', 'start_index': 406}),\n",
       " Document(page_content='2. 분석 내용 (자료분석의 우수성, 데이터 활용성)\\n활용데이터\\n『서울시 버스노선별, 정류장별, 시간대별 승·하차 인원 정보』 데이터에서 일별, 시간대별 승·하차 인원을 \\n구하기 위해 출근 시간대인  7시~9시의 승·하차 인원을 추출, 평균을 취하고 연도별 일수로 나누었다. \\n『stationList』, 『busStationbyRouteList』에서 얻은 버스정류장의 위·경도를 위에서 만든 버스 데이터에 \\n합치고, (승차 인원 – 하차 인원)/(60 / 배차간격) 식을 이용하여 버스 한 대별 순승차인원을 구하고, \\n(버스 별 누적 탑승인원 / 60) * 100 식으로 혼잡도지표를 생성하였다. 지역별 인구정보를 활용하기 \\n위해 Python의 selenium을 이용하여 정류소별 행정동 주소를 네이버 지도에서 크롤링하고, 이 주소와 \\n『서울시 동별 사업체 및 종사자 밀도 통계』 이용하여 행정동별 총 인구수, 사업체 수, 종사자 수 \\n데이터를 합쳤다. 정류소번호의 위·경도 데이터와 『구/동 별 주거 지역, 상업지역』, 『학교 정보』', metadata={'source': 'data/서울특별시 버스노선 혼잡도 예측을 통한 다람쥐버스 신규 노선제안(장려).pdf', 'file_path': 'data/서울특별시 버스노선 혼잡도 예측을 통한 다람쥐버스 신규 노선제안(장려).pdf', 'page': 0, 'total_pages': 5, 'format': 'PDF 1.4', 'title': '', 'author': 'user', 'subject': '', 'keywords': '', 'creator': 'Hwp 2018 10.0.0.9139', 'producer': 'Hancom PDF 1.3.0.538', 'creationDate': \"D:20200724181854+09'00'\", 'modDate': \"D:20200724181854+09'00'\", 'trapped': '', 'start_index': 823}),\n",
       " Document(page_content='데이터를 이용하여 반경 500m 내 상업지구, 주거지구 수와 중·고·대학교·대학원 수, 그 학교에 다니는 \\n학생(재적학생) 수, 교사(교수) 수를 합쳤다. 또한 『지하철 역별 시간대별 승·하차 인원수』 데이터를 \\n이용하여 가장 가까운 지하철역의 출근 시간대 평균 승, 하차 정보와 해당 지하철역을 다니는 호선 \\n수를 합쳤다. 마지막으로 통계빅데이터센터 『기초정보_인구집중유발시설』 데이터에서 대형유통점, \\n백화점, 숙박시설의 자료만을 추출하여 버스정류장의 반경 500m 내에 있는 시설의 수를 추가하였다.\\nMODELING\\n모델링을 하기에 앞서 기준을 세우기 위해 다음과 같이 설명변수를 전혀 넣지 않은, 랜덤으로 순승차량\\n을 예측했을 때의 RMSE값을 구했다. 또한 y변수인 순승차량의 분포를 그래프로 나타냈다. \\n데이터명\\nSource\\n비고\\n서울시 버스노선별, 정류장별, \\n시간대별 승·하차 인원 정보\\n서울열린데이터광장\\n기본 데이터\\nstationList\\n공공데이터포털 API', metadata={'source': 'data/서울특별시 버스노선 혼잡도 예측을 통한 다람쥐버스 신규 노선제안(장려).pdf', 'file_path': 'data/서울특별시 버스노선 혼잡도 예측을 통한 다람쥐버스 신규 노선제안(장려).pdf', 'page': 0, 'total_pages': 5, 'format': 'PDF 1.4', 'title': '', 'author': 'user', 'subject': '', 'keywords': '', 'creator': 'Hwp 2018 10.0.0.9139', 'producer': 'Hancom PDF 1.3.0.538', 'creationDate': \"D:20200724181854+09'00'\", 'modDate': \"D:20200724181854+09'00'\", 'trapped': '', 'start_index': 1348}),\n",
       " Document(page_content='서울열린데이터광장\\n기본 데이터\\nstationList\\n공공데이터포털 API\\n정류장별 위·경도 자료 사용\\nbusStationbyRouteList\\n공공데이터포털 API\\n노선 및 정류장 별 정보 이용\\n서울시 동별 사업체 및 종사자 밀도 \\n통계\\n서울열린데이터광장\\n정류장 주변 인구 밀도 정보\\n구/동 별 주거 지역, 상업지역\\n서울열린데이터광장\\n정류장 주변 환경 정보\\n지하철 역별 시간대별 승하차 인원수\\n공공데이터포털(file)\\n가까운 지하철역 승하차 수\\n학교 정보(중·고·대학교·대학원)\\nK-ICT 빅데이터센터\\n학교 별 학생 및 교직원 수\\n기초정보_인구집중유발시설(2018.7)\\n통계빅데이터센터\\n대형유통점, 백화점, 숙박시설의 수\\n기본\\nRMSE\\nrandom\\n3.761407', metadata={'source': 'data/서울특별시 버스노선 혼잡도 예측을 통한 다람쥐버스 신규 노선제안(장려).pdf', 'file_path': 'data/서울특별시 버스노선 혼잡도 예측을 통한 다람쥐버스 신규 노선제안(장려).pdf', 'page': 0, 'total_pages': 5, 'format': 'PDF 1.4', 'title': '', 'author': 'user', 'subject': '', 'keywords': '', 'creator': 'Hwp 2018 10.0.0.9139', 'producer': 'Hancom PDF 1.3.0.538', 'creationDate': \"D:20200724181854+09'00'\", 'modDate': \"D:20200724181854+09'00'\", 'trapped': '', 'start_index': 1797}),\n",
       " Document(page_content='랜덤으로 \\n순승차량을 \\n예측했을 \\n때의 \\nRMSE값은 3.76 정도이다. 이를 기준으\\n로 하여 아래 표에 나와있는 총 6 가지\\n의 모델의 성능을 비교하고 가장 작은 \\ntest RMSE 값을 갖는 것을 우리의 최종 \\n모형으로 선택하고자 한다. \\n6 가지 모델 중에서 Random Forest, GBM, XGBoost 는 tuning parameter 를 바꿔가며 모델링을 \\n실시했다. Random Forest 와 GBM 은 의사결정나무의 생성 수를 500, 1000, 1500 으로 바꿔가며 그 중 \\n가장 최소의 test RMSE 를 갖는 경우를 아래 표에 기입하였다. XGBoost 에서는 tuning parameter 로 \\nmax.depth, eta 값을 조정해 주었다. Ridge 와 Lasso 회귀 모형에서는 tuning parameter 인 lambda 를 \\n0.01 부터 \\ue034\\ue03d\\ue034\\ue03d까지  바꾸어가며 각 test RMSE 가 최소가 되는 값을 채택했다. max.depth 는 10, 30, 50 을 \\n사용하였고, eta 값은 0 부터 1 까지 0.1 간격을 주어 사용하였다. 이렇게 총 30 개의 parameter 를 \\n조정하며 test error 를 비교하여 가장 작은 parameter 를 선택하였다. \\n아래 표와 그래프는 6가지의 모델들의 train 및 test RMSE 값을 나타낸 것이다. 비교를 해보면 train과', metadata={'source': 'data/서울특별시 버스노선 혼잡도 예측을 통한 다람쥐버스 신규 노선제안(장려).pdf', 'file_path': 'data/서울특별시 버스노선 혼잡도 예측을 통한 다람쥐버스 신규 노선제안(장려).pdf', 'page': 1, 'total_pages': 5, 'format': 'PDF 1.4', 'title': '', 'author': 'user', 'subject': '', 'keywords': '', 'creator': 'Hwp 2018 10.0.0.9139', 'producer': 'Hancom PDF 1.3.0.538', 'creationDate': \"D:20200724181854+09'00'\", 'modDate': \"D:20200724181854+09'00'\", 'trapped': '', 'start_index': 2}),\n",
       " Document(page_content='test에서 모두 XGBoost의 성능이 가장 탁월한 것으로 나타났다. 따라서 순승차량을 예측하는 방법으로 \\nXGBoost모델을 최종모형으로 채택하였고 이 때의 max.depth는 30, eta는 0.3이다.\\n최종 모형을 이용하여 실제값(x 축) vs 예측값(y 축) 그래프를 그려보았다. Train data 인 2018 년 데이터에 \\n대해서는 거의 일직선에 가까운 형태를 보인다. Test data 인 2019 년 데이터에 대해서도 어느 정도 \\n오차를 보이지만 뛰어난 예측력을 가지고 있다고 해석할 수 있다.\\nmodel\\nexplanation\\nlinear regression\\n종속변수(y)와 독립변수(x)들의 선형관계를 모델링하는 기법\\nRidge & Lasso\\n회귀계수의 값을 0에 가깝게 만들어 분산을 줄인다. 이 중 Lasso 방법은 특정 변수\\n의 회귀계수를 0으로 만들어 변수를 선택하기도 한다. \\nRandom Forest \\n일부 변수만을 사용하여 여러 개의 tree (의사결정나무)를 생성한다. 모든 변수를 사\\n용하지 않기 때문에 변수 사이의 상관관계를 줄일 수 있다.\\nGBM\\ngbm은 연속적인 tree에서 이전 tree의 예측오류를 gradient boosting algorithm으로 \\n수정하며 예측 모델을 생성한다.  \\nXGBoost', metadata={'source': 'data/서울특별시 버스노선 혼잡도 예측을 통한 다람쥐버스 신규 노선제안(장려).pdf', 'file_path': 'data/서울특별시 버스노선 혼잡도 예측을 통한 다람쥐버스 신규 노선제안(장려).pdf', 'page': 1, 'total_pages': 5, 'format': 'PDF 1.4', 'title': '', 'author': 'user', 'subject': '', 'keywords': '', 'creator': 'Hwp 2018 10.0.0.9139', 'producer': 'Hancom PDF 1.3.0.538', 'creationDate': \"D:20200724181854+09'00'\", 'modDate': \"D:20200724181854+09'00'\", 'trapped': '', 'start_index': 692}),\n",
       " Document(page_content='gbm은 연속적인 tree에서 이전 tree의 예측오류를 gradient boosting algorithm으로 \\n수정하며 예측 모델을 생성한다.  \\nXGBoost\\nxgboost는 gbm과 마찬가지로 gradient boosting 알고리즘을 사용하지만 과적합을 \\n방지하기 위해 변수의 정규화를 사용함으로써 gbm보다 정확도를 높인다.\\nMODEL\\nTUNING\\nRMSE\\nRMSE.TEST\\n1\\nLinear Regression\\n-\\n3.71272\\n3.70241\\n2\\nLasso\\n0.01\\n3.71313\\n3.70283\\n3\\nRidge\\n0.87\\n3.71525\\n3.70500\\n4\\nRandom Forest\\nn.trees = 500\\n1.68062\\n1.87812\\n5\\nGBM\\nn.trees = 500\\n3.64299\\n3.67059\\n6\\nXGBoost\\nMax.depth =30 \\neta = 0.3 \\n0.31726\\n1.16769\\n2018\\n2019', metadata={'source': 'data/서울특별시 버스노선 혼잡도 예측을 통한 다람쥐버스 신규 노선제안(장려).pdf', 'file_path': 'data/서울특별시 버스노선 혼잡도 예측을 통한 다람쥐버스 신규 노선제안(장려).pdf', 'page': 1, 'total_pages': 5, 'format': 'PDF 1.4', 'title': '', 'author': 'user', 'subject': '', 'keywords': '', 'creator': 'Hwp 2018 10.0.0.9139', 'producer': 'Hancom PDF 1.3.0.538', 'creationDate': \"D:20200724181854+09'00'\", 'modDate': \"D:20200724181854+09'00'\", 'trapped': '', 'start_index': 1243}),\n",
       " Document(page_content='클러스터링\\n현재 운행 중인 다람쥐버스가 지나는 지역의 특성을 파악하기 위해 군집화 분석을 진행하였다. EM알고\\n리즘을 기반으로 한 군집분석을 시행한 결과 3개의 그룹으로 나누는 것이 가장 적절하다고 판단하였다. \\n그 결과 각 그룹은 아래 표와 같은 특성을 보였고 이를 서울시 지도에 다음과 같이 나타낼 수 있었다.\\n다람쥐 버스 추천\\n위에서 버스 정류장 주변에 있는 정보를 이용하여 해당 버스 정류장의 순 승차량을 예측하였다. 이제 \\n예측한 순 승차량을 이용하여 새로운 다람쥐 버스를 추천하고자 한다. 혼잡도 지표 식을 이용하여 계산\\n한 다음, 전체 혼잡도의 상위 5% 안에 있는 값들이 연속된 구간을 찾고 개수를 세었다. \\n연속 구간이 가장 많은 버스는 5616인데, 혼잡 구간이 현재 다람쥐버스 8552가 다니고 있기 때문에 제\\n외하였다. 650번 버스의 혼잡구간은 6625번 버스의 구간과 비슷했고, 333번 버스의 경우 혼잡구간이 상', metadata={'source': 'data/서울특별시 버스노선 혼잡도 예측을 통한 다람쥐버스 신규 노선제안(장려).pdf', 'file_path': 'data/서울특별시 버스노선 혼잡도 예측을 통한 다람쥐버스 신규 노선제안(장려).pdf', 'page': 2, 'total_pages': 5, 'format': 'PDF 1.4', 'title': '', 'author': 'user', 'subject': '', 'keywords': '', 'creator': 'Hwp 2018 10.0.0.9139', 'producer': 'Hancom PDF 1.3.0.538', 'creationDate': \"D:20200724181854+09'00'\", 'modDate': \"D:20200724181854+09'00'\", 'trapped': '', 'start_index': 0}),\n",
       " Document(page_content='업지역(class 1,2)에서 주거지역(class 3)으로 운행하는 경향이 있어 추천 목록에서 제외하였다. 다람쥐 버\\n스 노선 구간은 위의 노선버스에서 주거지역에서 상업지역으로 운행하는 구간을 차용하였다. 제안한 다\\n람쥐 버스의 정류소별 지역정보를 시각화하여 나타내면 다음과 같다.\\n146번 버스를 차용한 다람쥐버스 추천 노선 구간을 살펴보면, 기점쪽에는 주거비율, 종점 쪽에는 사업체 \\n및 종사자 수가 더 많음을 볼 수 있다. 6625번, 360번 버스도 마찬가지로 나타났다.\\n노선버스\\n5616\\n146\\n6625\\n650\\n333\\n360\\n연속구간\\n89\\n69\\n56\\n44\\n42\\n41\\nclass\\n학생수\\n사업체수\\n종사자수\\n총인구수\\n지하철\\n버스\\n상업지역\\n주거지역\\n편의시설\\n1(주거+\\n상업)\\n3695\\n2400\\n18131\\n27446\\n1.37\\n3.99\\n1.33\\n13.7\\n2.91\\n2(상업)\\n12129\\n5224\\n45720\\n21989\\n1.81\\n4.27\\n4.27\\n13.5\\n8.15\\n3(주거)\\n2373\\n1505\\n7099\\n27035\\n1\\n2.67\\n2.67\\n13.8\\n1.48', metadata={'source': 'data/서울특별시 버스노선 혼잡도 예측을 통한 다람쥐버스 신규 노선제안(장려).pdf', 'file_path': 'data/서울특별시 버스노선 혼잡도 예측을 통한 다람쥐버스 신규 노선제안(장려).pdf', 'page': 2, 'total_pages': 5, 'format': 'PDF 1.4', 'title': '', 'author': 'user', 'subject': '', 'keywords': '', 'creator': 'Hwp 2018 10.0.0.9139', 'producer': 'Hancom PDF 1.3.0.538', 'creationDate': \"D:20200724181854+09'00'\", 'modDate': \"D:20200724181854+09'00'\", 'trapped': '', 'start_index': 470}),\n",
       " Document(page_content='최종 다람쥐 버스의 노선 구간을 지도로 나타내면 다음과 같다.\\n             \\n                \\n             \\n                \\n             \\n          \\n최종 추천 다람쥐버스 노선 구간을 지도와 표로 나타내면 다음과 같다. 지역 정보에 대한 내용을 세 개\\n의 클러스터로 나누어 추천하였기 때문에 위 구간을 반대 방향으로 이용하면 퇴근 시간에 운행하는 다\\n6625 \\n- \\n8881\\n146 - 8991\\n360 - 8111\\n승차 > 하차\\n승차 < 하차\\n\\\\', metadata={'source': 'data/서울특별시 버스노선 혼잡도 예측을 통한 다람쥐버스 신규 노선제안(장려).pdf', 'file_path': 'data/서울특별시 버스노선 혼잡도 예측을 통한 다람쥐버스 신규 노선제안(장려).pdf', 'page': 3, 'total_pages': 5, 'format': 'PDF 1.4', 'title': '', 'author': 'user', 'subject': '', 'keywords': '', 'creator': 'Hwp 2018 10.0.0.9139', 'producer': 'Hancom PDF 1.3.0.538', 'creationDate': \"D:20200724181854+09'00'\", 'modDate': \"D:20200724181854+09'00'\", 'trapped': '', 'start_index': 0}),\n",
       " Document(page_content='람쥐 버스를 신규 노선으로 제안할 수 있을 것이다. \\n3. 분석 결과 활용\\n현재 출퇴근 시간에서의 교통 혼잡도는 매우 높으며 대중교통의 이용 또한 이미 포화상태이다. 전체 대\\n중교통의 이용자 수는 늘리되, 차량 당 혼잡도를 줄이고자 일종의 셔틀 개념을 가진 다람쥐버스가 시행\\n되었으며, 이는 충분히 서울 내, 외 다양한 지역에서 적용이 가능하다. 버스의 이용객 수 예측이 적절히 \\n이루어진다면 최대 효과를 볼 수 있는 루트를 찾고 빠른 시행을 기대해볼 수 있다. 따라서 버스 정류소 \\n및 노선별 이용객 수를 예측하고, 이를 토대로 혼잡도 계산을 하여 신규 루트를 제안해보았다. \\n다람쥐버스는 다시 말하자면 이미 시행되고 있는 정책이다. 학생들의 등교 및 직장인들의 출근시간에 \\n맞춘 단거리 순환버스는 짧은 운행시간으로도 상당한 효과를 보여주고 있다. 이 프로젝트에서는 다양한', metadata={'source': 'data/서울특별시 버스노선 혼잡도 예측을 통한 다람쥐버스 신규 노선제안(장려).pdf', 'file_path': 'data/서울특별시 버스노선 혼잡도 예측을 통한 다람쥐버스 신규 노선제안(장려).pdf', 'page': 4, 'total_pages': 5, 'format': 'PDF 1.4', 'title': '', 'author': 'user', 'subject': '', 'keywords': '', 'creator': 'Hwp 2018 10.0.0.9139', 'producer': 'Hancom PDF 1.3.0.538', 'creationDate': \"D:20200724181854+09'00'\", 'modDate': \"D:20200724181854+09'00'\", 'trapped': '', 'start_index': 0}),\n",
       " Document(page_content='변수들을 이용하여 기존의 버스 노선들의 정류장별 순승차인원(승차 – 하차)을 예측하였다. 모델링을 통\\n해 버스정류장 주변 지역 정보를 이용했기 때문에 객관적인 노선제안 방식이라고 말할 수 있다. 여기서 \\n얻은 승차 인원 예측 정보를 통해 배차 간격 및 운행시간을 알맞게 조정하여 시행할 수 있을 것이다.  \\n버스 정류장들을 군집화함으로써 신규 정류장이 건설되거나 기존의 것이 변경되었을 때 손쉽게 적절한 \\n분류가 가능하다는 것이다. 따라서 다람쥐 버스의 신규 노선을 추천하는 작업에서 일반화된 클러스터를 \\n이용할 수 있다는 장접을 가지고 있다. \\n버스 노선\\n기∙종점\\n대수\\n거리\\n배차간격\\n횟수\\n운행시간\\n8991\\n한국전력동부지사 ~ \\n한국무역센터.삼성역\\n5\\n12.3km\\n10~12 분\\n11\\n07:00~09:00\\n8881\\n강서초등학교 ~ \\nKT&G영등포지사.문래동종점\\n4\\n9.18km\\n10~11 분\\n12\\n07:00~09:00\\n8111\\n신길새마을금고 ~ \\n한국자산식탁.르네상스호텔\\n5\\n13.7km\\n10~12 분\\n11\\n17:30~19:30', metadata={'source': 'data/서울특별시 버스노선 혼잡도 예측을 통한 다람쥐버스 신규 노선제안(장려).pdf', 'file_path': 'data/서울특별시 버스노선 혼잡도 예측을 통한 다람쥐버스 신규 노선제안(장려).pdf', 'page': 4, 'total_pages': 5, 'format': 'PDF 1.4', 'title': '', 'author': 'user', 'subject': '', 'keywords': '', 'creator': 'Hwp 2018 10.0.0.9139', 'producer': 'Hancom PDF 1.3.0.538', 'creationDate': \"D:20200724181854+09'00'\", 'modDate': \"D:20200724181854+09'00'\", 'trapped': '', 'start_index': 435})]"
      ]
     },
     "execution_count": 42,
     "metadata": {},
     "output_type": "execute_result"
    }
   ],
   "source": [
    "docs"
   ]
  },
  {
   "cell_type": "code",
   "execution_count": 5,
   "metadata": {},
   "outputs": [],
   "source": [
    "#splitting the text into\n",
    "text_splitter = RecursiveCharacterTextSplitter(chunk_size=1000, chunk_overlap=200)\n",
    "docs = text_splitter.split_documents(documents)"
   ]
  },
  {
   "cell_type": "code",
   "execution_count": 6,
   "metadata": {},
   "outputs": [
    {
     "data": {
      "text/plain": [
       "[Document(page_content='서울특별시 버스 노선 혼잡도 예측을 통한 다람쥐버스 신규 노선 \\n제안\\n1. 주제 선정 및 자료분석 배경 (주제 선정의 독창성) \\n을지로, 여의도 같은 기업의 밀집도가 높은 지역들의 출퇴근 시간에는 대중교통, 자가용 할 것 없이 모\\n든 이동수단의 포화상태를 볼 수 있다. 출퇴근 시간에서의 교통 혼잡도를 줄이기 위해서 대중교통의 이\\n용을 적극 홍보하고 있지만, 사실상 버스와 지하철을 타지 못하고 몇 대씩 보내고 난 다음에야 탑승할 \\n수 있을 정도로 이용객이 넘쳐난다. 이러한 문제를 해결하기 위해 서울시에서 다람쥐버스의 운행을 시\\n작하였다. 다람쥐버스는 서울시에서 운행하는 출퇴근 맞춤버스로 출퇴근 시간대의 특정 구간에서 발생\\n하는 차내 혼잡을 해소하기 위해 운행하는 순환형 셔틀버스이다. 다람쥐버스라는 이름은 다람쥐가 쳇바\\n퀴 돌듯 짧은 구간을 반복 운행한다고 하여 붙여졌다.\\n2017년 6월에 4개의 노선으로 반년 간의 시범 운행을 한 결과 차내 혼잡을 39.5% 완화하는 효과와 동\\n시에 해당 구간의 전체 버스 이용객이 16.5% 증가하는 효과를 볼 수 있었다. 이러한 결과를 반영하여 \\n2018년에는 3개의 노선이 추가되어 현재는 총 7개의 노선이 운행 중이다.\\n다람쥐버스는 현재 이미 시행 중인 정책이지만 2018년에 국토교통부가 주관한 2018 지속가능 교통도시\\n평가에서 최우수정책으로 선정될 만큼 긍정적인 평가를 받고 있고 타 지역에서의 운행을 기대하는 시민\\n들의 목소리도 높은 것으로 나타났다. 따라서 이번 과제에서 버스 정류소 및 노선별 이용객 수를 예측\\n하고 버스 내 혼잡도를 계산함으로써 가장 큰 효과를 얻을 수 있는 신규 노선을 제안하고자 한다. \\n2. 분석 내용 (자료분석의 우수성, 데이터 활용성)\\n활용데이터\\n『서울시 버스노선별, 정류장별, 시간대별 승·하차 인원 정보』 데이터에서 일별, 시간대별 승·하차 인원을 \\n구하기 위해 출근 시간대인  7시~9시의 승·하차 인원을 추출, 평균을 취하고 연도별 일수로 나누었다.', metadata={'source': 'data/서울특별시 버스노선 혼잡도 예측을 통한 다람쥐버스 신규 노선제안(장려).pdf', 'file_path': 'data/서울특별시 버스노선 혼잡도 예측을 통한 다람쥐버스 신규 노선제안(장려).pdf', 'page': 0, 'total_pages': 5, 'format': 'PDF 1.4', 'title': '', 'author': 'user', 'subject': '', 'keywords': '', 'creator': 'Hwp 2018 10.0.0.9139', 'producer': 'Hancom PDF 1.3.0.538', 'creationDate': \"D:20200724181854+09'00'\", 'modDate': \"D:20200724181854+09'00'\", 'trapped': ''}),\n",
       " Document(page_content='2. 분석 내용 (자료분석의 우수성, 데이터 활용성)\\n활용데이터\\n『서울시 버스노선별, 정류장별, 시간대별 승·하차 인원 정보』 데이터에서 일별, 시간대별 승·하차 인원을 \\n구하기 위해 출근 시간대인  7시~9시의 승·하차 인원을 추출, 평균을 취하고 연도별 일수로 나누었다. \\n『stationList』, 『busStationbyRouteList』에서 얻은 버스정류장의 위·경도를 위에서 만든 버스 데이터에 \\n합치고, (승차 인원 – 하차 인원)/(60 / 배차간격) 식을 이용하여 버스 한 대별 순승차인원을 구하고, \\n(버스 별 누적 탑승인원 / 60) * 100 식으로 혼잡도지표를 생성하였다. 지역별 인구정보를 활용하기 \\n위해 Python의 selenium을 이용하여 정류소별 행정동 주소를 네이버 지도에서 크롤링하고, 이 주소와 \\n『서울시 동별 사업체 및 종사자 밀도 통계』 이용하여 행정동별 총 인구수, 사업체 수, 종사자 수 \\n데이터를 합쳤다. 정류소번호의 위·경도 데이터와 『구/동 별 주거 지역, 상업지역』, 『학교 정보』 \\n데이터를 이용하여 반경 500m 내 상업지구, 주거지구 수와 중·고·대학교·대학원 수, 그 학교에 다니는 \\n학생(재적학생) 수, 교사(교수) 수를 합쳤다. 또한 『지하철 역별 시간대별 승·하차 인원수』 데이터를 \\n이용하여 가장 가까운 지하철역의 출근 시간대 평균 승, 하차 정보와 해당 지하철역을 다니는 호선 \\n수를 합쳤다. 마지막으로 통계빅데이터센터 『기초정보_인구집중유발시설』 데이터에서 대형유통점, \\n백화점, 숙박시설의 자료만을 추출하여 버스정류장의 반경 500m 내에 있는 시설의 수를 추가하였다.\\nMODELING\\n모델링을 하기에 앞서 기준을 세우기 위해 다음과 같이 설명변수를 전혀 넣지 않은, 랜덤으로 순승차량\\n을 예측했을 때의 RMSE값을 구했다. 또한 y변수인 순승차량의 분포를 그래프로 나타냈다. \\n데이터명\\nSource\\n비고\\n서울시 버스노선별, 정류장별, \\n시간대별 승·하차 인원 정보\\n서울열린데이터광장\\n기본 데이터', metadata={'source': 'data/서울특별시 버스노선 혼잡도 예측을 통한 다람쥐버스 신규 노선제안(장려).pdf', 'file_path': 'data/서울특별시 버스노선 혼잡도 예측을 통한 다람쥐버스 신규 노선제안(장려).pdf', 'page': 0, 'total_pages': 5, 'format': 'PDF 1.4', 'title': '', 'author': 'user', 'subject': '', 'keywords': '', 'creator': 'Hwp 2018 10.0.0.9139', 'producer': 'Hancom PDF 1.3.0.538', 'creationDate': \"D:20200724181854+09'00'\", 'modDate': \"D:20200724181854+09'00'\", 'trapped': ''}),\n",
       " Document(page_content='MODELING\\n모델링을 하기에 앞서 기준을 세우기 위해 다음과 같이 설명변수를 전혀 넣지 않은, 랜덤으로 순승차량\\n을 예측했을 때의 RMSE값을 구했다. 또한 y변수인 순승차량의 분포를 그래프로 나타냈다. \\n데이터명\\nSource\\n비고\\n서울시 버스노선별, 정류장별, \\n시간대별 승·하차 인원 정보\\n서울열린데이터광장\\n기본 데이터\\nstationList\\n공공데이터포털 API\\n정류장별 위·경도 자료 사용\\nbusStationbyRouteList\\n공공데이터포털 API\\n노선 및 정류장 별 정보 이용\\n서울시 동별 사업체 및 종사자 밀도 \\n통계\\n서울열린데이터광장\\n정류장 주변 인구 밀도 정보\\n구/동 별 주거 지역, 상업지역\\n서울열린데이터광장\\n정류장 주변 환경 정보\\n지하철 역별 시간대별 승하차 인원수\\n공공데이터포털(file)\\n가까운 지하철역 승하차 수\\n학교 정보(중·고·대학교·대학원)\\nK-ICT 빅데이터센터\\n학교 별 학생 및 교직원 수\\n기초정보_인구집중유발시설(2018.7)\\n통계빅데이터센터\\n대형유통점, 백화점, 숙박시설의 수\\n기본\\nRMSE\\nrandom\\n3.761407', metadata={'source': 'data/서울특별시 버스노선 혼잡도 예측을 통한 다람쥐버스 신규 노선제안(장려).pdf', 'file_path': 'data/서울특별시 버스노선 혼잡도 예측을 통한 다람쥐버스 신규 노선제안(장려).pdf', 'page': 0, 'total_pages': 5, 'format': 'PDF 1.4', 'title': '', 'author': 'user', 'subject': '', 'keywords': '', 'creator': 'Hwp 2018 10.0.0.9139', 'producer': 'Hancom PDF 1.3.0.538', 'creationDate': \"D:20200724181854+09'00'\", 'modDate': \"D:20200724181854+09'00'\", 'trapped': ''}),\n",
       " Document(page_content='랜덤으로 \\n순승차량을 \\n예측했을 \\n때의 \\nRMSE값은 3.76 정도이다. 이를 기준으\\n로 하여 아래 표에 나와있는 총 6 가지\\n의 모델의 성능을 비교하고 가장 작은 \\ntest RMSE 값을 갖는 것을 우리의 최종 \\n모형으로 선택하고자 한다. \\n6 가지 모델 중에서 Random Forest, GBM, XGBoost 는 tuning parameter 를 바꿔가며 모델링을 \\n실시했다. Random Forest 와 GBM 은 의사결정나무의 생성 수를 500, 1000, 1500 으로 바꿔가며 그 중 \\n가장 최소의 test RMSE 를 갖는 경우를 아래 표에 기입하였다. XGBoost 에서는 tuning parameter 로 \\nmax.depth, eta 값을 조정해 주었다. Ridge 와 Lasso 회귀 모형에서는 tuning parameter 인 lambda 를 \\n0.01 부터 \\ue034\\ue03d\\ue034\\ue03d까지  바꾸어가며 각 test RMSE 가 최소가 되는 값을 채택했다. max.depth 는 10, 30, 50 을 \\n사용하였고, eta 값은 0 부터 1 까지 0.1 간격을 주어 사용하였다. 이렇게 총 30 개의 parameter 를 \\n조정하며 test error 를 비교하여 가장 작은 parameter 를 선택하였다. \\n아래 표와 그래프는 6가지의 모델들의 train 및 test RMSE 값을 나타낸 것이다. 비교를 해보면 train과 \\ntest에서 모두 XGBoost의 성능이 가장 탁월한 것으로 나타났다. 따라서 순승차량을 예측하는 방법으로 \\nXGBoost모델을 최종모형으로 채택하였고 이 때의 max.depth는 30, eta는 0.3이다.\\n최종 모형을 이용하여 실제값(x 축) vs 예측값(y 축) 그래프를 그려보았다. Train data 인 2018 년 데이터에 \\n대해서는 거의 일직선에 가까운 형태를 보인다. Test data 인 2019 년 데이터에 대해서도 어느 정도 \\n오차를 보이지만 뛰어난 예측력을 가지고 있다고 해석할 수 있다.\\nmodel\\nexplanation', metadata={'source': 'data/서울특별시 버스노선 혼잡도 예측을 통한 다람쥐버스 신규 노선제안(장려).pdf', 'file_path': 'data/서울특별시 버스노선 혼잡도 예측을 통한 다람쥐버스 신규 노선제안(장려).pdf', 'page': 1, 'total_pages': 5, 'format': 'PDF 1.4', 'title': '', 'author': 'user', 'subject': '', 'keywords': '', 'creator': 'Hwp 2018 10.0.0.9139', 'producer': 'Hancom PDF 1.3.0.538', 'creationDate': \"D:20200724181854+09'00'\", 'modDate': \"D:20200724181854+09'00'\", 'trapped': ''}),\n",
       " Document(page_content='최종 모형을 이용하여 실제값(x 축) vs 예측값(y 축) 그래프를 그려보았다. Train data 인 2018 년 데이터에 \\n대해서는 거의 일직선에 가까운 형태를 보인다. Test data 인 2019 년 데이터에 대해서도 어느 정도 \\n오차를 보이지만 뛰어난 예측력을 가지고 있다고 해석할 수 있다.\\nmodel\\nexplanation\\nlinear regression\\n종속변수(y)와 독립변수(x)들의 선형관계를 모델링하는 기법\\nRidge & Lasso\\n회귀계수의 값을 0에 가깝게 만들어 분산을 줄인다. 이 중 Lasso 방법은 특정 변수\\n의 회귀계수를 0으로 만들어 변수를 선택하기도 한다. \\nRandom Forest \\n일부 변수만을 사용하여 여러 개의 tree (의사결정나무)를 생성한다. 모든 변수를 사\\n용하지 않기 때문에 변수 사이의 상관관계를 줄일 수 있다.\\nGBM\\ngbm은 연속적인 tree에서 이전 tree의 예측오류를 gradient boosting algorithm으로 \\n수정하며 예측 모델을 생성한다.  \\nXGBoost\\nxgboost는 gbm과 마찬가지로 gradient boosting 알고리즘을 사용하지만 과적합을 \\n방지하기 위해 변수의 정규화를 사용함으로써 gbm보다 정확도를 높인다.\\nMODEL\\nTUNING\\nRMSE\\nRMSE.TEST\\n1\\nLinear Regression\\n-\\n3.71272\\n3.70241\\n2\\nLasso\\n0.01\\n3.71313\\n3.70283\\n3\\nRidge\\n0.87\\n3.71525\\n3.70500\\n4\\nRandom Forest\\nn.trees = 500\\n1.68062\\n1.87812\\n5\\nGBM\\nn.trees = 500\\n3.64299\\n3.67059\\n6\\nXGBoost\\nMax.depth =30 \\neta = 0.3 \\n0.31726\\n1.16769\\n2018\\n2019', metadata={'source': 'data/서울특별시 버스노선 혼잡도 예측을 통한 다람쥐버스 신규 노선제안(장려).pdf', 'file_path': 'data/서울특별시 버스노선 혼잡도 예측을 통한 다람쥐버스 신규 노선제안(장려).pdf', 'page': 1, 'total_pages': 5, 'format': 'PDF 1.4', 'title': '', 'author': 'user', 'subject': '', 'keywords': '', 'creator': 'Hwp 2018 10.0.0.9139', 'producer': 'Hancom PDF 1.3.0.538', 'creationDate': \"D:20200724181854+09'00'\", 'modDate': \"D:20200724181854+09'00'\", 'trapped': ''}),\n",
       " Document(page_content='클러스터링\\n현재 운행 중인 다람쥐버스가 지나는 지역의 특성을 파악하기 위해 군집화 분석을 진행하였다. EM알고\\n리즘을 기반으로 한 군집분석을 시행한 결과 3개의 그룹으로 나누는 것이 가장 적절하다고 판단하였다. \\n그 결과 각 그룹은 아래 표와 같은 특성을 보였고 이를 서울시 지도에 다음과 같이 나타낼 수 있었다.\\n다람쥐 버스 추천\\n위에서 버스 정류장 주변에 있는 정보를 이용하여 해당 버스 정류장의 순 승차량을 예측하였다. 이제 \\n예측한 순 승차량을 이용하여 새로운 다람쥐 버스를 추천하고자 한다. 혼잡도 지표 식을 이용하여 계산\\n한 다음, 전체 혼잡도의 상위 5% 안에 있는 값들이 연속된 구간을 찾고 개수를 세었다. \\n연속 구간이 가장 많은 버스는 5616인데, 혼잡 구간이 현재 다람쥐버스 8552가 다니고 있기 때문에 제\\n외하였다. 650번 버스의 혼잡구간은 6625번 버스의 구간과 비슷했고, 333번 버스의 경우 혼잡구간이 상\\n업지역(class 1,2)에서 주거지역(class 3)으로 운행하는 경향이 있어 추천 목록에서 제외하였다. 다람쥐 버\\n스 노선 구간은 위의 노선버스에서 주거지역에서 상업지역으로 운행하는 구간을 차용하였다. 제안한 다\\n람쥐 버스의 정류소별 지역정보를 시각화하여 나타내면 다음과 같다.\\n146번 버스를 차용한 다람쥐버스 추천 노선 구간을 살펴보면, 기점쪽에는 주거비율, 종점 쪽에는 사업체 \\n및 종사자 수가 더 많음을 볼 수 있다. 6625번, 360번 버스도 마찬가지로 나타났다.\\n노선버스\\n5616\\n146\\n6625\\n650\\n333\\n360\\n연속구간\\n89\\n69\\n56\\n44\\n42\\n41\\nclass\\n학생수\\n사업체수\\n종사자수\\n총인구수\\n지하철\\n버스\\n상업지역\\n주거지역\\n편의시설\\n1(주거+\\n상업)\\n3695\\n2400\\n18131\\n27446\\n1.37\\n3.99\\n1.33\\n13.7\\n2.91\\n2(상업)\\n12129\\n5224\\n45720\\n21989\\n1.81\\n4.27\\n4.27\\n13.5\\n8.15\\n3(주거)\\n2373\\n1505\\n7099\\n27035\\n1\\n2.67\\n2.67\\n13.8\\n1.48', metadata={'source': 'data/서울특별시 버스노선 혼잡도 예측을 통한 다람쥐버스 신규 노선제안(장려).pdf', 'file_path': 'data/서울특별시 버스노선 혼잡도 예측을 통한 다람쥐버스 신규 노선제안(장려).pdf', 'page': 2, 'total_pages': 5, 'format': 'PDF 1.4', 'title': '', 'author': 'user', 'subject': '', 'keywords': '', 'creator': 'Hwp 2018 10.0.0.9139', 'producer': 'Hancom PDF 1.3.0.538', 'creationDate': \"D:20200724181854+09'00'\", 'modDate': \"D:20200724181854+09'00'\", 'trapped': ''}),\n",
       " Document(page_content='최종 다람쥐 버스의 노선 구간을 지도로 나타내면 다음과 같다.\\n             \\n                \\n             \\n                \\n             \\n          \\n최종 추천 다람쥐버스 노선 구간을 지도와 표로 나타내면 다음과 같다. 지역 정보에 대한 내용을 세 개\\n의 클러스터로 나누어 추천하였기 때문에 위 구간을 반대 방향으로 이용하면 퇴근 시간에 운행하는 다\\n6625 \\n- \\n8881\\n146 - 8991\\n360 - 8111\\n승차 > 하차\\n승차 < 하차\\n\\\\', metadata={'source': 'data/서울특별시 버스노선 혼잡도 예측을 통한 다람쥐버스 신규 노선제안(장려).pdf', 'file_path': 'data/서울특별시 버스노선 혼잡도 예측을 통한 다람쥐버스 신규 노선제안(장려).pdf', 'page': 3, 'total_pages': 5, 'format': 'PDF 1.4', 'title': '', 'author': 'user', 'subject': '', 'keywords': '', 'creator': 'Hwp 2018 10.0.0.9139', 'producer': 'Hancom PDF 1.3.0.538', 'creationDate': \"D:20200724181854+09'00'\", 'modDate': \"D:20200724181854+09'00'\", 'trapped': ''}),\n",
       " Document(page_content='람쥐 버스를 신규 노선으로 제안할 수 있을 것이다. \\n3. 분석 결과 활용\\n현재 출퇴근 시간에서의 교통 혼잡도는 매우 높으며 대중교통의 이용 또한 이미 포화상태이다. 전체 대\\n중교통의 이용자 수는 늘리되, 차량 당 혼잡도를 줄이고자 일종의 셔틀 개념을 가진 다람쥐버스가 시행\\n되었으며, 이는 충분히 서울 내, 외 다양한 지역에서 적용이 가능하다. 버스의 이용객 수 예측이 적절히 \\n이루어진다면 최대 효과를 볼 수 있는 루트를 찾고 빠른 시행을 기대해볼 수 있다. 따라서 버스 정류소 \\n및 노선별 이용객 수를 예측하고, 이를 토대로 혼잡도 계산을 하여 신규 루트를 제안해보았다. \\n다람쥐버스는 다시 말하자면 이미 시행되고 있는 정책이다. 학생들의 등교 및 직장인들의 출근시간에 \\n맞춘 단거리 순환버스는 짧은 운행시간으로도 상당한 효과를 보여주고 있다. 이 프로젝트에서는 다양한 \\n변수들을 이용하여 기존의 버스 노선들의 정류장별 순승차인원(승차 – 하차)을 예측하였다. 모델링을 통\\n해 버스정류장 주변 지역 정보를 이용했기 때문에 객관적인 노선제안 방식이라고 말할 수 있다. 여기서 \\n얻은 승차 인원 예측 정보를 통해 배차 간격 및 운행시간을 알맞게 조정하여 시행할 수 있을 것이다.  \\n버스 정류장들을 군집화함으로써 신규 정류장이 건설되거나 기존의 것이 변경되었을 때 손쉽게 적절한 \\n분류가 가능하다는 것이다. 따라서 다람쥐 버스의 신규 노선을 추천하는 작업에서 일반화된 클러스터를 \\n이용할 수 있다는 장접을 가지고 있다. \\n버스 노선\\n기∙종점\\n대수\\n거리\\n배차간격\\n횟수\\n운행시간\\n8991\\n한국전력동부지사 ~ \\n한국무역센터.삼성역\\n5\\n12.3km\\n10~12 분\\n11\\n07:00~09:00\\n8881\\n강서초등학교 ~ \\nKT&G영등포지사.문래동종점\\n4\\n9.18km\\n10~11 분\\n12\\n07:00~09:00\\n8111\\n신길새마을금고 ~ \\n한국자산식탁.르네상스호텔\\n5\\n13.7km\\n10~12 분\\n11\\n17:30~19:30', metadata={'source': 'data/서울특별시 버스노선 혼잡도 예측을 통한 다람쥐버스 신규 노선제안(장려).pdf', 'file_path': 'data/서울특별시 버스노선 혼잡도 예측을 통한 다람쥐버스 신규 노선제안(장려).pdf', 'page': 4, 'total_pages': 5, 'format': 'PDF 1.4', 'title': '', 'author': 'user', 'subject': '', 'keywords': '', 'creator': 'Hwp 2018 10.0.0.9139', 'producer': 'Hancom PDF 1.3.0.538', 'creationDate': \"D:20200724181854+09'00'\", 'modDate': \"D:20200724181854+09'00'\", 'trapped': ''})]"
      ]
     },
     "execution_count": 6,
     "metadata": {},
     "output_type": "execute_result"
    }
   ],
   "source": [
    "docs"
   ]
  },
  {
   "cell_type": "code",
   "execution_count": 11,
   "metadata": {},
   "outputs": [],
   "source": [
    "#splitting the text into\n",
    "text_splitter = RecursiveCharacterTextSplitter(chunk_size=1000, chunk_overlap=100)\n",
    "docs = text_splitter.split_documents(documents)"
   ]
  },
  {
   "cell_type": "code",
   "execution_count": 12,
   "metadata": {},
   "outputs": [
    {
     "data": {
      "text/plain": [
       "[Document(page_content='서울특별시 버스 노선 혼잡도 예측을 통한 다람쥐버스 신규 노선 \\n제안\\n1. 주제 선정 및 자료분석 배경 (주제 선정의 독창성) \\n을지로, 여의도 같은 기업의 밀집도가 높은 지역들의 출퇴근 시간에는 대중교통, 자가용 할 것 없이 모\\n든 이동수단의 포화상태를 볼 수 있다. 출퇴근 시간에서의 교통 혼잡도를 줄이기 위해서 대중교통의 이\\n용을 적극 홍보하고 있지만, 사실상 버스와 지하철을 타지 못하고 몇 대씩 보내고 난 다음에야 탑승할 \\n수 있을 정도로 이용객이 넘쳐난다. 이러한 문제를 해결하기 위해 서울시에서 다람쥐버스의 운행을 시\\n작하였다. 다람쥐버스는 서울시에서 운행하는 출퇴근 맞춤버스로 출퇴근 시간대의 특정 구간에서 발생\\n하는 차내 혼잡을 해소하기 위해 운행하는 순환형 셔틀버스이다. 다람쥐버스라는 이름은 다람쥐가 쳇바\\n퀴 돌듯 짧은 구간을 반복 운행한다고 하여 붙여졌다.\\n2017년 6월에 4개의 노선으로 반년 간의 시범 운행을 한 결과 차내 혼잡을 39.5% 완화하는 효과와 동\\n시에 해당 구간의 전체 버스 이용객이 16.5% 증가하는 효과를 볼 수 있었다. 이러한 결과를 반영하여 \\n2018년에는 3개의 노선이 추가되어 현재는 총 7개의 노선이 운행 중이다.\\n다람쥐버스는 현재 이미 시행 중인 정책이지만 2018년에 국토교통부가 주관한 2018 지속가능 교통도시\\n평가에서 최우수정책으로 선정될 만큼 긍정적인 평가를 받고 있고 타 지역에서의 운행을 기대하는 시민\\n들의 목소리도 높은 것으로 나타났다. 따라서 이번 과제에서 버스 정류소 및 노선별 이용객 수를 예측\\n하고 버스 내 혼잡도를 계산함으로써 가장 큰 효과를 얻을 수 있는 신규 노선을 제안하고자 한다. \\n2. 분석 내용 (자료분석의 우수성, 데이터 활용성)\\n활용데이터\\n『서울시 버스노선별, 정류장별, 시간대별 승·하차 인원 정보』 데이터에서 일별, 시간대별 승·하차 인원을 \\n구하기 위해 출근 시간대인  7시~9시의 승·하차 인원을 추출, 평균을 취하고 연도별 일수로 나누었다.', metadata={'source': 'data/서울특별시 버스노선 혼잡도 예측을 통한 다람쥐버스 신규 노선제안(장려).pdf', 'file_path': 'data/서울특별시 버스노선 혼잡도 예측을 통한 다람쥐버스 신규 노선제안(장려).pdf', 'page': 0, 'total_pages': 5, 'format': 'PDF 1.4', 'title': '', 'author': 'user', 'subject': '', 'keywords': '', 'creator': 'Hwp 2018 10.0.0.9139', 'producer': 'Hancom PDF 1.3.0.538', 'creationDate': \"D:20200724181854+09'00'\", 'modDate': \"D:20200724181854+09'00'\", 'trapped': ''}),\n",
       " Document(page_content='구하기 위해 출근 시간대인  7시~9시의 승·하차 인원을 추출, 평균을 취하고 연도별 일수로 나누었다. \\n『stationList』, 『busStationbyRouteList』에서 얻은 버스정류장의 위·경도를 위에서 만든 버스 데이터에 \\n합치고, (승차 인원 – 하차 인원)/(60 / 배차간격) 식을 이용하여 버스 한 대별 순승차인원을 구하고, \\n(버스 별 누적 탑승인원 / 60) * 100 식으로 혼잡도지표를 생성하였다. 지역별 인구정보를 활용하기 \\n위해 Python의 selenium을 이용하여 정류소별 행정동 주소를 네이버 지도에서 크롤링하고, 이 주소와 \\n『서울시 동별 사업체 및 종사자 밀도 통계』 이용하여 행정동별 총 인구수, 사업체 수, 종사자 수 \\n데이터를 합쳤다. 정류소번호의 위·경도 데이터와 『구/동 별 주거 지역, 상업지역』, 『학교 정보』 \\n데이터를 이용하여 반경 500m 내 상업지구, 주거지구 수와 중·고·대학교·대학원 수, 그 학교에 다니는 \\n학생(재적학생) 수, 교사(교수) 수를 합쳤다. 또한 『지하철 역별 시간대별 승·하차 인원수』 데이터를 \\n이용하여 가장 가까운 지하철역의 출근 시간대 평균 승, 하차 정보와 해당 지하철역을 다니는 호선 \\n수를 합쳤다. 마지막으로 통계빅데이터센터 『기초정보_인구집중유발시설』 데이터에서 대형유통점, \\n백화점, 숙박시설의 자료만을 추출하여 버스정류장의 반경 500m 내에 있는 시설의 수를 추가하였다.\\nMODELING\\n모델링을 하기에 앞서 기준을 세우기 위해 다음과 같이 설명변수를 전혀 넣지 않은, 랜덤으로 순승차량\\n을 예측했을 때의 RMSE값을 구했다. 또한 y변수인 순승차량의 분포를 그래프로 나타냈다. \\n데이터명\\nSource\\n비고\\n서울시 버스노선별, 정류장별, \\n시간대별 승·하차 인원 정보\\n서울열린데이터광장\\n기본 데이터\\nstationList\\n공공데이터포털 API\\n정류장별 위·경도 자료 사용\\nbusStationbyRouteList\\n공공데이터포털 API\\n노선 및 정류장 별 정보 이용', metadata={'source': 'data/서울특별시 버스노선 혼잡도 예측을 통한 다람쥐버스 신규 노선제안(장려).pdf', 'file_path': 'data/서울특별시 버스노선 혼잡도 예측을 통한 다람쥐버스 신규 노선제안(장려).pdf', 'page': 0, 'total_pages': 5, 'format': 'PDF 1.4', 'title': '', 'author': 'user', 'subject': '', 'keywords': '', 'creator': 'Hwp 2018 10.0.0.9139', 'producer': 'Hancom PDF 1.3.0.538', 'creationDate': \"D:20200724181854+09'00'\", 'modDate': \"D:20200724181854+09'00'\", 'trapped': ''}),\n",
       " Document(page_content='기본 데이터\\nstationList\\n공공데이터포털 API\\n정류장별 위·경도 자료 사용\\nbusStationbyRouteList\\n공공데이터포털 API\\n노선 및 정류장 별 정보 이용\\n서울시 동별 사업체 및 종사자 밀도 \\n통계\\n서울열린데이터광장\\n정류장 주변 인구 밀도 정보\\n구/동 별 주거 지역, 상업지역\\n서울열린데이터광장\\n정류장 주변 환경 정보\\n지하철 역별 시간대별 승하차 인원수\\n공공데이터포털(file)\\n가까운 지하철역 승하차 수\\n학교 정보(중·고·대학교·대학원)\\nK-ICT 빅데이터센터\\n학교 별 학생 및 교직원 수\\n기초정보_인구집중유발시설(2018.7)\\n통계빅데이터센터\\n대형유통점, 백화점, 숙박시설의 수\\n기본\\nRMSE\\nrandom\\n3.761407', metadata={'source': 'data/서울특별시 버스노선 혼잡도 예측을 통한 다람쥐버스 신규 노선제안(장려).pdf', 'file_path': 'data/서울특별시 버스노선 혼잡도 예측을 통한 다람쥐버스 신규 노선제안(장려).pdf', 'page': 0, 'total_pages': 5, 'format': 'PDF 1.4', 'title': '', 'author': 'user', 'subject': '', 'keywords': '', 'creator': 'Hwp 2018 10.0.0.9139', 'producer': 'Hancom PDF 1.3.0.538', 'creationDate': \"D:20200724181854+09'00'\", 'modDate': \"D:20200724181854+09'00'\", 'trapped': ''}),\n",
       " Document(page_content='랜덤으로 \\n순승차량을 \\n예측했을 \\n때의 \\nRMSE값은 3.76 정도이다. 이를 기준으\\n로 하여 아래 표에 나와있는 총 6 가지\\n의 모델의 성능을 비교하고 가장 작은 \\ntest RMSE 값을 갖는 것을 우리의 최종 \\n모형으로 선택하고자 한다. \\n6 가지 모델 중에서 Random Forest, GBM, XGBoost 는 tuning parameter 를 바꿔가며 모델링을 \\n실시했다. Random Forest 와 GBM 은 의사결정나무의 생성 수를 500, 1000, 1500 으로 바꿔가며 그 중 \\n가장 최소의 test RMSE 를 갖는 경우를 아래 표에 기입하였다. XGBoost 에서는 tuning parameter 로 \\nmax.depth, eta 값을 조정해 주었다. Ridge 와 Lasso 회귀 모형에서는 tuning parameter 인 lambda 를 \\n0.01 부터 \\ue034\\ue03d\\ue034\\ue03d까지  바꾸어가며 각 test RMSE 가 최소가 되는 값을 채택했다. max.depth 는 10, 30, 50 을 \\n사용하였고, eta 값은 0 부터 1 까지 0.1 간격을 주어 사용하였다. 이렇게 총 30 개의 parameter 를 \\n조정하며 test error 를 비교하여 가장 작은 parameter 를 선택하였다. \\n아래 표와 그래프는 6가지의 모델들의 train 및 test RMSE 값을 나타낸 것이다. 비교를 해보면 train과 \\ntest에서 모두 XGBoost의 성능이 가장 탁월한 것으로 나타났다. 따라서 순승차량을 예측하는 방법으로 \\nXGBoost모델을 최종모형으로 채택하였고 이 때의 max.depth는 30, eta는 0.3이다.\\n최종 모형을 이용하여 실제값(x 축) vs 예측값(y 축) 그래프를 그려보았다. Train data 인 2018 년 데이터에 \\n대해서는 거의 일직선에 가까운 형태를 보인다. Test data 인 2019 년 데이터에 대해서도 어느 정도 \\n오차를 보이지만 뛰어난 예측력을 가지고 있다고 해석할 수 있다.\\nmodel\\nexplanation', metadata={'source': 'data/서울특별시 버스노선 혼잡도 예측을 통한 다람쥐버스 신규 노선제안(장려).pdf', 'file_path': 'data/서울특별시 버스노선 혼잡도 예측을 통한 다람쥐버스 신규 노선제안(장려).pdf', 'page': 1, 'total_pages': 5, 'format': 'PDF 1.4', 'title': '', 'author': 'user', 'subject': '', 'keywords': '', 'creator': 'Hwp 2018 10.0.0.9139', 'producer': 'Hancom PDF 1.3.0.538', 'creationDate': \"D:20200724181854+09'00'\", 'modDate': \"D:20200724181854+09'00'\", 'trapped': ''}),\n",
       " Document(page_content='오차를 보이지만 뛰어난 예측력을 가지고 있다고 해석할 수 있다.\\nmodel\\nexplanation\\nlinear regression\\n종속변수(y)와 독립변수(x)들의 선형관계를 모델링하는 기법\\nRidge & Lasso\\n회귀계수의 값을 0에 가깝게 만들어 분산을 줄인다. 이 중 Lasso 방법은 특정 변수\\n의 회귀계수를 0으로 만들어 변수를 선택하기도 한다. \\nRandom Forest \\n일부 변수만을 사용하여 여러 개의 tree (의사결정나무)를 생성한다. 모든 변수를 사\\n용하지 않기 때문에 변수 사이의 상관관계를 줄일 수 있다.\\nGBM\\ngbm은 연속적인 tree에서 이전 tree의 예측오류를 gradient boosting algorithm으로 \\n수정하며 예측 모델을 생성한다.  \\nXGBoost\\nxgboost는 gbm과 마찬가지로 gradient boosting 알고리즘을 사용하지만 과적합을 \\n방지하기 위해 변수의 정규화를 사용함으로써 gbm보다 정확도를 높인다.\\nMODEL\\nTUNING\\nRMSE\\nRMSE.TEST\\n1\\nLinear Regression\\n-\\n3.71272\\n3.70241\\n2\\nLasso\\n0.01\\n3.71313\\n3.70283\\n3\\nRidge\\n0.87\\n3.71525\\n3.70500\\n4\\nRandom Forest\\nn.trees = 500\\n1.68062\\n1.87812\\n5\\nGBM\\nn.trees = 500\\n3.64299\\n3.67059\\n6\\nXGBoost\\nMax.depth =30 \\neta = 0.3 \\n0.31726\\n1.16769\\n2018\\n2019', metadata={'source': 'data/서울특별시 버스노선 혼잡도 예측을 통한 다람쥐버스 신규 노선제안(장려).pdf', 'file_path': 'data/서울특별시 버스노선 혼잡도 예측을 통한 다람쥐버스 신규 노선제안(장려).pdf', 'page': 1, 'total_pages': 5, 'format': 'PDF 1.4', 'title': '', 'author': 'user', 'subject': '', 'keywords': '', 'creator': 'Hwp 2018 10.0.0.9139', 'producer': 'Hancom PDF 1.3.0.538', 'creationDate': \"D:20200724181854+09'00'\", 'modDate': \"D:20200724181854+09'00'\", 'trapped': ''}),\n",
       " Document(page_content='클러스터링\\n현재 운행 중인 다람쥐버스가 지나는 지역의 특성을 파악하기 위해 군집화 분석을 진행하였다. EM알고\\n리즘을 기반으로 한 군집분석을 시행한 결과 3개의 그룹으로 나누는 것이 가장 적절하다고 판단하였다. \\n그 결과 각 그룹은 아래 표와 같은 특성을 보였고 이를 서울시 지도에 다음과 같이 나타낼 수 있었다.\\n다람쥐 버스 추천\\n위에서 버스 정류장 주변에 있는 정보를 이용하여 해당 버스 정류장의 순 승차량을 예측하였다. 이제 \\n예측한 순 승차량을 이용하여 새로운 다람쥐 버스를 추천하고자 한다. 혼잡도 지표 식을 이용하여 계산\\n한 다음, 전체 혼잡도의 상위 5% 안에 있는 값들이 연속된 구간을 찾고 개수를 세었다. \\n연속 구간이 가장 많은 버스는 5616인데, 혼잡 구간이 현재 다람쥐버스 8552가 다니고 있기 때문에 제\\n외하였다. 650번 버스의 혼잡구간은 6625번 버스의 구간과 비슷했고, 333번 버스의 경우 혼잡구간이 상\\n업지역(class 1,2)에서 주거지역(class 3)으로 운행하는 경향이 있어 추천 목록에서 제외하였다. 다람쥐 버\\n스 노선 구간은 위의 노선버스에서 주거지역에서 상업지역으로 운행하는 구간을 차용하였다. 제안한 다\\n람쥐 버스의 정류소별 지역정보를 시각화하여 나타내면 다음과 같다.\\n146번 버스를 차용한 다람쥐버스 추천 노선 구간을 살펴보면, 기점쪽에는 주거비율, 종점 쪽에는 사업체 \\n및 종사자 수가 더 많음을 볼 수 있다. 6625번, 360번 버스도 마찬가지로 나타났다.\\n노선버스\\n5616\\n146\\n6625\\n650\\n333\\n360\\n연속구간\\n89\\n69\\n56\\n44\\n42\\n41\\nclass\\n학생수\\n사업체수\\n종사자수\\n총인구수\\n지하철\\n버스\\n상업지역\\n주거지역\\n편의시설\\n1(주거+\\n상업)\\n3695\\n2400\\n18131\\n27446\\n1.37\\n3.99\\n1.33\\n13.7\\n2.91\\n2(상업)\\n12129\\n5224\\n45720\\n21989\\n1.81\\n4.27\\n4.27\\n13.5\\n8.15\\n3(주거)\\n2373\\n1505\\n7099\\n27035\\n1\\n2.67\\n2.67\\n13.8\\n1.48', metadata={'source': 'data/서울특별시 버스노선 혼잡도 예측을 통한 다람쥐버스 신규 노선제안(장려).pdf', 'file_path': 'data/서울특별시 버스노선 혼잡도 예측을 통한 다람쥐버스 신규 노선제안(장려).pdf', 'page': 2, 'total_pages': 5, 'format': 'PDF 1.4', 'title': '', 'author': 'user', 'subject': '', 'keywords': '', 'creator': 'Hwp 2018 10.0.0.9139', 'producer': 'Hancom PDF 1.3.0.538', 'creationDate': \"D:20200724181854+09'00'\", 'modDate': \"D:20200724181854+09'00'\", 'trapped': ''}),\n",
       " Document(page_content='최종 다람쥐 버스의 노선 구간을 지도로 나타내면 다음과 같다.\\n             \\n                \\n             \\n                \\n             \\n          \\n최종 추천 다람쥐버스 노선 구간을 지도와 표로 나타내면 다음과 같다. 지역 정보에 대한 내용을 세 개\\n의 클러스터로 나누어 추천하였기 때문에 위 구간을 반대 방향으로 이용하면 퇴근 시간에 운행하는 다\\n6625 \\n- \\n8881\\n146 - 8991\\n360 - 8111\\n승차 > 하차\\n승차 < 하차\\n\\\\', metadata={'source': 'data/서울특별시 버스노선 혼잡도 예측을 통한 다람쥐버스 신규 노선제안(장려).pdf', 'file_path': 'data/서울특별시 버스노선 혼잡도 예측을 통한 다람쥐버스 신규 노선제안(장려).pdf', 'page': 3, 'total_pages': 5, 'format': 'PDF 1.4', 'title': '', 'author': 'user', 'subject': '', 'keywords': '', 'creator': 'Hwp 2018 10.0.0.9139', 'producer': 'Hancom PDF 1.3.0.538', 'creationDate': \"D:20200724181854+09'00'\", 'modDate': \"D:20200724181854+09'00'\", 'trapped': ''}),\n",
       " Document(page_content='람쥐 버스를 신규 노선으로 제안할 수 있을 것이다. \\n3. 분석 결과 활용\\n현재 출퇴근 시간에서의 교통 혼잡도는 매우 높으며 대중교통의 이용 또한 이미 포화상태이다. 전체 대\\n중교통의 이용자 수는 늘리되, 차량 당 혼잡도를 줄이고자 일종의 셔틀 개념을 가진 다람쥐버스가 시행\\n되었으며, 이는 충분히 서울 내, 외 다양한 지역에서 적용이 가능하다. 버스의 이용객 수 예측이 적절히 \\n이루어진다면 최대 효과를 볼 수 있는 루트를 찾고 빠른 시행을 기대해볼 수 있다. 따라서 버스 정류소 \\n및 노선별 이용객 수를 예측하고, 이를 토대로 혼잡도 계산을 하여 신규 루트를 제안해보았다. \\n다람쥐버스는 다시 말하자면 이미 시행되고 있는 정책이다. 학생들의 등교 및 직장인들의 출근시간에 \\n맞춘 단거리 순환버스는 짧은 운행시간으로도 상당한 효과를 보여주고 있다. 이 프로젝트에서는 다양한 \\n변수들을 이용하여 기존의 버스 노선들의 정류장별 순승차인원(승차 – 하차)을 예측하였다. 모델링을 통\\n해 버스정류장 주변 지역 정보를 이용했기 때문에 객관적인 노선제안 방식이라고 말할 수 있다. 여기서 \\n얻은 승차 인원 예측 정보를 통해 배차 간격 및 운행시간을 알맞게 조정하여 시행할 수 있을 것이다.  \\n버스 정류장들을 군집화함으로써 신규 정류장이 건설되거나 기존의 것이 변경되었을 때 손쉽게 적절한 \\n분류가 가능하다는 것이다. 따라서 다람쥐 버스의 신규 노선을 추천하는 작업에서 일반화된 클러스터를 \\n이용할 수 있다는 장접을 가지고 있다. \\n버스 노선\\n기∙종점\\n대수\\n거리\\n배차간격\\n횟수\\n운행시간\\n8991\\n한국전력동부지사 ~ \\n한국무역센터.삼성역\\n5\\n12.3km\\n10~12 분\\n11\\n07:00~09:00\\n8881\\n강서초등학교 ~ \\nKT&G영등포지사.문래동종점\\n4\\n9.18km\\n10~11 분\\n12\\n07:00~09:00\\n8111\\n신길새마을금고 ~ \\n한국자산식탁.르네상스호텔\\n5\\n13.7km\\n10~12 분\\n11\\n17:30~19:30', metadata={'source': 'data/서울특별시 버스노선 혼잡도 예측을 통한 다람쥐버스 신규 노선제안(장려).pdf', 'file_path': 'data/서울특별시 버스노선 혼잡도 예측을 통한 다람쥐버스 신규 노선제안(장려).pdf', 'page': 4, 'total_pages': 5, 'format': 'PDF 1.4', 'title': '', 'author': 'user', 'subject': '', 'keywords': '', 'creator': 'Hwp 2018 10.0.0.9139', 'producer': 'Hancom PDF 1.3.0.538', 'creationDate': \"D:20200724181854+09'00'\", 'modDate': \"D:20200724181854+09'00'\", 'trapped': ''})]"
      ]
     },
     "execution_count": 12,
     "metadata": {},
     "output_type": "execute_result"
    }
   ],
   "source": [
    "docs"
   ]
  },
  {
   "cell_type": "code",
   "execution_count": 85,
   "metadata": {},
   "outputs": [],
   "source": [
    "lenTokenByPage = defaultdict()\n",
    "for doc in docs:\n",
    "    lenTokenByPage[doc.metadata['page']] = num_tokens_from_string(doc.page_content)"
   ]
  },
  {
   "cell_type": "code",
   "execution_count": 86,
   "metadata": {},
   "outputs": [
    {
     "data": {
      "text/plain": [
       "defaultdict(None, {0: 512, 1: 570, 2: 899, 3: 187, 4: 951, 5: 166})"
      ]
     },
     "execution_count": 86,
     "metadata": {},
     "output_type": "execute_result"
    }
   ],
   "source": [
    "lenTokenByPage"
   ]
  },
  {
   "cell_type": "code",
   "execution_count": 38,
   "metadata": {},
   "outputs": [],
   "source": [
    "texts = [doc.dict() for doc in docs]"
   ]
  },
  {
   "cell_type": "code",
   "execution_count": 56,
   "metadata": {},
   "outputs": [
    {
     "data": {
      "text/plain": [
       "{'page_content': '지역의 사회구조적 특성이 빈집 형성에 미친 영향에 관한 \\n패널분석\\n1. 주제 선정 및 자료분석 배경 (주제 선정의 독창성) \\n ◦ [연구의 배경] 빈집 증가 추세의 심화  \\n   - 최근 빈집 증가로 「빈집 및 소규모주택 정비에 관한 특례법」이 제정되는 등 빈집\\n에 대한 사회적․정책적 관심이 높아진 상황임\\n   - 빈집이 증가하면서 안전사고나 범죄, 도시미관이나 주거환경에의 장해 발생을 우려\\n하는 시각도 존재함(남지현, 2015) \\n ◦ [연구의 필요성] 빈집 관련 실증적 연구의 필요성\\n   - 빈집 정비와 활용을 목적으로 하는 사업들이 실효적으로 추진되기 위해서는 빈집의\\n실태를 파악하는 한편, 빈집 발생에 영향을 미치는 요인들에 대한 실증적 연구가\\n긴요함\\n   - 농촌지역뿐만 아니라 도시지역 안에서도 빈집이 증가하고 있는 상황은 단순히 저출\\n산․고령화의 여파가 아니라 지역이 지닌 사회구조적 취약성이 장기간 누적된 결과\\n로서 이해되어야 할 필요성을 시사함\\n ◦ [선행연구 검토] 자료의 범위 및 분석단위 설정에서의 한계\\n   - 빈집을 주제로 한 선행연구들은 단년도 자료에 바탕하고 있어 시간적 흐름에 따라\\n빈집 발생에 미치는 요인의 영향력을 면밀하게 분석하기 어려움(예컨대, 김현중․한\\n홍구․여관현, 2018; 노민지․유선종, 2016)\\n   - 빈집 관련 선행연구에서 고려된 변수는 인구․가구․주택과 관련된 것으로 제한되어\\n있어, 폐업 사업체수와 같은 지역의 경제적 상황이나 병원수 등과 같은 생활편의\\n(amenity) 수준 등 빈집 형성에 영향을 미치는 생태학적 요인을 다양하게 고려하는\\n것이 필요함\\n   - 또한 빈집 관련 선행연구들은 자료의 분석단위를 기초자치단체(시․군․구)로 다소 넓\\n게 설정하거나 한 개 동과 같이 보다 작은 범위(예컨대, 전영미․김세훈, 2016; 오승\\n훈, 2015)에 대해 사례검토 하는 것으로 양분화되고 있어 전국적․보편적 논의로 확\\n대하기에는 일정한 한계가 존재함',\n",
       " 'metadata': {'source': 'data/지역의 사회구조적 특성이 빈집 형성에 미친 영향에 관한 패널 분석(우수).pdf',\n",
       "  'file_path': 'data/지역의 사회구조적 특성이 빈집 형성에 미친 영향에 관한 패널 분석(우수).pdf',\n",
       "  'page': 0,\n",
       "  'total_pages': 6,\n",
       "  'format': 'PDF 1.4',\n",
       "  'title': '',\n",
       "  'author': 'mhan',\n",
       "  'subject': '',\n",
       "  'keywords': '',\n",
       "  'creator': 'Hwp 2018 10.0.0.9139',\n",
       "  'producer': 'Hancom PDF 1.3.0.538',\n",
       "  'creationDate': \"D:20200724181319+09'00'\",\n",
       "  'modDate': \"D:20200724181319+09'00'\",\n",
       "  'trapped': ''}}"
      ]
     },
     "execution_count": 56,
     "metadata": {},
     "output_type": "execute_result"
    }
   ],
   "source": [
    "texts[0]"
   ]
  },
  {
   "cell_type": "code",
   "execution_count": 36,
   "metadata": {},
   "outputs": [],
   "source": [
    "_len = sum([len(doc.page_content) for doc in docs])"
   ]
  },
  {
   "cell_type": "code",
   "execution_count": 37,
   "metadata": {},
   "outputs": [
    {
     "data": {
      "text/plain": [
       "17385"
      ]
     },
     "execution_count": 37,
     "metadata": {},
     "output_type": "execute_result"
    }
   ],
   "source": [
    "_len"
   ]
  },
  {
   "cell_type": "code",
   "execution_count": 109,
   "metadata": {},
   "outputs": [],
   "source": [
    "## Embedding"
   ]
  },
  {
   "cell_type": "code",
   "execution_count": 87,
   "metadata": {},
   "outputs": [],
   "source": [
    "## here we are using OpenAI embeddings but in future we will swap out to local embeddings\n",
    "embedding = OpenAIEmbeddings()"
   ]
  },
  {
   "cell_type": "code",
   "execution_count": null,
   "metadata": {},
   "outputs": [],
   "source": [
    "from langchain.embeddings import HuggingFaceInstructEmbeddings\n",
    "\n",
    "## Here is the nmew embeddings being use\n",
    "embedding = HuggingFaceInstructEmbeddings(model_name=\"hkunlp/instructor-xl\",\n",
    "                                          model_kwargs={\"device\": \"cuda\"})"
   ]
  },
  {
   "attachments": {},
   "cell_type": "markdown",
   "metadata": {},
   "source": [
    "## Create a Vector DB"
   ]
  },
  {
   "cell_type": "code",
   "execution_count": 33,
   "metadata": {},
   "outputs": [
    {
     "ename": "AttributeError",
     "evalue": "'str' object has no attribute 'page_content'",
     "output_type": "error",
     "traceback": [
      "\u001b[0;31m---------------------------------------------------------------------------\u001b[0m",
      "\u001b[0;31mAttributeError\u001b[0m                            Traceback (most recent call last)",
      "Cell \u001b[0;32mIn[33], line 5\u001b[0m\n\u001b[1;32m      1\u001b[0m \u001b[39m# Embed and store the texts\u001b[39;00m\n\u001b[1;32m      2\u001b[0m \u001b[39m# Supplying a persist_directory will store the embeddings on disk\u001b[39;00m\n\u001b[1;32m      3\u001b[0m persist_directory \u001b[39m=\u001b[39m \u001b[39m'\u001b[39m\u001b[39mdb\u001b[39m\u001b[39m'\u001b[39m\n\u001b[0;32m----> 5\u001b[0m vectordb \u001b[39m=\u001b[39m Chroma\u001b[39m.\u001b[39;49mfrom_documents(documents\u001b[39m=\u001b[39;49mtexts, \n\u001b[1;32m      6\u001b[0m                                  embedding\u001b[39m=\u001b[39;49membedding,\n\u001b[1;32m      7\u001b[0m                                  persist_directory\u001b[39m=\u001b[39;49mpersist_directory)\n",
      "File \u001b[0;32m~/Desktop/23_HF171/AI_TEST/.venv/lib/python3.9/site-packages/langchain/vectorstores/chroma.py:460\u001b[0m, in \u001b[0;36mChroma.from_documents\u001b[0;34m(cls, documents, embedding, ids, collection_name, persist_directory, client_settings, client, **kwargs)\u001b[0m\n\u001b[1;32m    433\u001b[0m \u001b[39m@classmethod\u001b[39m\n\u001b[1;32m    434\u001b[0m \u001b[39mdef\u001b[39;00m \u001b[39mfrom_documents\u001b[39m(\n\u001b[1;32m    435\u001b[0m     \u001b[39mcls\u001b[39m: Type[Chroma],\n\u001b[0;32m   (...)\u001b[0m\n\u001b[1;32m    443\u001b[0m     \u001b[39m*\u001b[39m\u001b[39m*\u001b[39mkwargs: Any,\n\u001b[1;32m    444\u001b[0m ) \u001b[39m-\u001b[39m\u001b[39m>\u001b[39m Chroma:\n\u001b[1;32m    445\u001b[0m \u001b[39m    \u001b[39m\u001b[39m\"\"\"Create a Chroma vectorstore from a list of documents.\u001b[39;00m\n\u001b[1;32m    446\u001b[0m \n\u001b[1;32m    447\u001b[0m \u001b[39m    If a persist_directory is specified, the collection will be persisted there.\u001b[39;00m\n\u001b[0;32m   (...)\u001b[0m\n\u001b[1;32m    458\u001b[0m \u001b[39m        Chroma: Chroma vectorstore.\u001b[39;00m\n\u001b[1;32m    459\u001b[0m \u001b[39m    \"\"\"\u001b[39;00m\n\u001b[0;32m--> 460\u001b[0m     texts \u001b[39m=\u001b[39m [doc\u001b[39m.\u001b[39mpage_content \u001b[39mfor\u001b[39;00m doc \u001b[39min\u001b[39;00m documents]\n\u001b[1;32m    461\u001b[0m     metadatas \u001b[39m=\u001b[39m [doc\u001b[39m.\u001b[39mmetadata \u001b[39mfor\u001b[39;00m doc \u001b[39min\u001b[39;00m documents]\n\u001b[1;32m    462\u001b[0m     \u001b[39mreturn\u001b[39;00m \u001b[39mcls\u001b[39m\u001b[39m.\u001b[39mfrom_texts(\n\u001b[1;32m    463\u001b[0m         texts\u001b[39m=\u001b[39mtexts,\n\u001b[1;32m    464\u001b[0m         embedding\u001b[39m=\u001b[39membedding,\n\u001b[0;32m   (...)\u001b[0m\n\u001b[1;32m    470\u001b[0m         client\u001b[39m=\u001b[39mclient,\n\u001b[1;32m    471\u001b[0m     )\n",
      "File \u001b[0;32m~/Desktop/23_HF171/AI_TEST/.venv/lib/python3.9/site-packages/langchain/vectorstores/chroma.py:460\u001b[0m, in \u001b[0;36m<listcomp>\u001b[0;34m(.0)\u001b[0m\n\u001b[1;32m    433\u001b[0m \u001b[39m@classmethod\u001b[39m\n\u001b[1;32m    434\u001b[0m \u001b[39mdef\u001b[39;00m \u001b[39mfrom_documents\u001b[39m(\n\u001b[1;32m    435\u001b[0m     \u001b[39mcls\u001b[39m: Type[Chroma],\n\u001b[0;32m   (...)\u001b[0m\n\u001b[1;32m    443\u001b[0m     \u001b[39m*\u001b[39m\u001b[39m*\u001b[39mkwargs: Any,\n\u001b[1;32m    444\u001b[0m ) \u001b[39m-\u001b[39m\u001b[39m>\u001b[39m Chroma:\n\u001b[1;32m    445\u001b[0m \u001b[39m    \u001b[39m\u001b[39m\"\"\"Create a Chroma vectorstore from a list of documents.\u001b[39;00m\n\u001b[1;32m    446\u001b[0m \n\u001b[1;32m    447\u001b[0m \u001b[39m    If a persist_directory is specified, the collection will be persisted there.\u001b[39;00m\n\u001b[0;32m   (...)\u001b[0m\n\u001b[1;32m    458\u001b[0m \u001b[39m        Chroma: Chroma vectorstore.\u001b[39;00m\n\u001b[1;32m    459\u001b[0m \u001b[39m    \"\"\"\u001b[39;00m\n\u001b[0;32m--> 460\u001b[0m     texts \u001b[39m=\u001b[39m [doc\u001b[39m.\u001b[39;49mpage_content \u001b[39mfor\u001b[39;00m doc \u001b[39min\u001b[39;00m documents]\n\u001b[1;32m    461\u001b[0m     metadatas \u001b[39m=\u001b[39m [doc\u001b[39m.\u001b[39mmetadata \u001b[39mfor\u001b[39;00m doc \u001b[39min\u001b[39;00m documents]\n\u001b[1;32m    462\u001b[0m     \u001b[39mreturn\u001b[39;00m \u001b[39mcls\u001b[39m\u001b[39m.\u001b[39mfrom_texts(\n\u001b[1;32m    463\u001b[0m         texts\u001b[39m=\u001b[39mtexts,\n\u001b[1;32m    464\u001b[0m         embedding\u001b[39m=\u001b[39membedding,\n\u001b[0;32m   (...)\u001b[0m\n\u001b[1;32m    470\u001b[0m         client\u001b[39m=\u001b[39mclient,\n\u001b[1;32m    471\u001b[0m     )\n",
      "\u001b[0;31mAttributeError\u001b[0m: 'str' object has no attribute 'page_content'"
     ]
    }
   ],
   "source": [
    "# Embed and store the texts\n",
    "# Supplying a persist_directory will store the embeddings on disk\n",
    "persist_directory = 'db'\n",
    "\n",
    "vectordb = Chroma.from_documents(documents=docs, \n",
    "                                 embedding=embedding,\n",
    "                                 persist_directory=persist_directory)"
   ]
  },
  {
   "cell_type": "code",
   "execution_count": 55,
   "metadata": {},
   "outputs": [],
   "source": [
    "# persiste the db to disk\n",
    "vectordb.persist()\n",
    "vectordb = None"
   ]
  },
  {
   "cell_type": "code",
   "execution_count": 56,
   "metadata": {},
   "outputs": [],
   "source": [
    "# Now we can load the persisted database from disk, and use it as normal. \n",
    "vectordb = Chroma(persist_directory=persist_directory, \n",
    "                  embedding_function=embedding)"
   ]
  },
  {
   "attachments": {},
   "cell_type": "markdown",
   "metadata": {},
   "source": [
    "## Make a retriever"
   ]
  },
  {
   "cell_type": "code",
   "execution_count": 86,
   "metadata": {},
   "outputs": [],
   "source": [
    "# retriever = vectordb.as_retriever()\n",
    "retriever = vectordb.as_retriever(search_kwargs={\"k\": 2})\n",
    "# retriever.search_type\n",
    "# retriever.search_kwargs"
   ]
  },
  {
   "cell_type": "code",
   "execution_count": 87,
   "metadata": {},
   "outputs": [],
   "source": [
    "docs = retriever.get_relevant_documents(\"과거는 반복된다\")"
   ]
  },
  {
   "cell_type": "code",
   "execution_count": 88,
   "metadata": {},
   "outputs": [
    {
     "data": {
      "text/plain": [
       "2"
      ]
     },
     "execution_count": 88,
     "metadata": {},
     "output_type": "execute_result"
    }
   ],
   "source": [
    "len(docs)"
   ]
  },
  {
   "cell_type": "code",
   "execution_count": 89,
   "metadata": {},
   "outputs": [
    {
     "data": {
      "text/plain": [
       "[Document(page_content='인 차원으로 풀이되어 옴에 따라 읍면동과 같은 소지역 단위에서의 빈집정비 방향\\n설정에 유효한 설명이 부족하였음. 이상의 분석결과는 같은 지자체 안에서도 빈집\\n발생 정도에 차이가 나타나는 이유를 설명하는 틀을 제공하며, 빈집 발생을 완화하\\n기 위해 취할 수 있는 정책적 방안 모색을 가능케 함\\n  ◦ 빈집 발생 및 증가 현상에 대한 이해 증대\\n   - 분석결과 읍면동 내 빈집 발생 및 증가 현상은 인구구조 특성뿐만 아니라 지역의\\n경제적 상황, 생활편의 등 지역생태학적 요인이 복합적으로 작용한 결과임. 단순히\\n중앙 및 지방자치단체기관이 지방으로 이전되었다고 해서 빈집 발생이 억제되는 효\\n과로 이어지지 않으며, 분석결과에서도 자치단체기관수가 빈집 발생에 유의한 영향\\n을 미치지 않는 것으로 나타남. 또한 도시 지역의 빈집 발생은 폐업 사업체수 등\\n지역의 경제적 상황과 밀접히 관련되어 있다는 분석결과는 최근 대기업 두 곳이 연\\n이어 철수한 군산 등 전북 지역의 빈집 발생 심화현상에 적확한 설명을 제공함', metadata={'source': 'data/지역의 사회구조적 특성이 빈집 형성에 미친 영향에 관한 패널 분석(우수).pdf', 'file_path': 'data/지역의 사회구조적 특성이 빈집 형성에 미친 영향에 관한 패널 분석(우수).pdf', 'page': 4, 'total_pages': 6, 'format': 'PDF 1.4', 'title': '', 'author': 'mhan', 'subject': '', 'keywords': '', 'creator': 'Hwp 2018 10.0.0.9139', 'producer': 'Hancom PDF 1.3.0.538', 'creationDate': \"D:20200724181319+09'00'\", 'modDate': \"D:20200724181319+09'00'\", 'trapped': ''}),\n",
       " Document(page_content='일수록 유의하게 빈집이 증가하는 것은 신림동 노량진 등 전통적인 고시촌이 쇠락\\n하고 있는 상황을 반영하는 것으로 보임. 한편, 빈집 발생 및 증가 현상은 연도별로\\n심화되고 있음\\n3. 분석 결과 활용\\n 1) 현황분석을 통한 시사점 / 정책 제안 / 창업 아이디어의 핵심내용 (독창성･차별성)\\n  ◦ 지역 내 빈집 발생을 완화하기 위한 방안\\n   (1) [여성가구주가 정주할 수 있는 여건 조성] 동부 및 읍면부 공히 여성가구주수가\\n증가할수록 빈집이 감소하는 것으로 나타남. 이는 여성가구주가 안심하고 정주할\\n수 있는 여건(예컨대 야간 보행안전 확보, 도로변 쓰레기 치우기 등 환경미화)이\\n갖춰진 지역에서는 빈집이 발생할 가능성이 낮아짐을 시사함\\n   (2) [취약주택 및 노후주택의 정비] 비닐하우스 등 취약주택수가 많을수록, 평균 건축\\n연도가 오래되었을수록, 20년 이상 노후주택이 많을수록, 읍면동 내 빈집 증가에\\n유의한 영향을 미침. 이러한 맥락에서 낙후된 주택의 외관을 정비하는 지자체의\\n도시재생 사업은 빈집 감소에 긍정적인 효과를 기대할 수 있음. 다만 빈집 감소를\\n목적으로 하는 도시재생 사업은 지역의 주택 상황과 빈집 발생간의 연관성이 낮\\n은 농촌(읍면부) 단위에서는 유의하지 못함\\n   (3) [신중한 신축주택 건설] 5년 미만 신축주택수의 증가는 빈집 증가와 관련 있는 요\\n인으로 확인됨. 거시적으로 인구가 감소하고 빈집이 증가하고 있는 상황을 고려할\\n때 소지역 단위에서도 신축주택 건설에 보다 신중을 기할 필요가 있음', metadata={'source': 'data/지역의 사회구조적 특성이 빈집 형성에 미친 영향에 관한 패널 분석(우수).pdf', 'file_path': 'data/지역의 사회구조적 특성이 빈집 형성에 미친 영향에 관한 패널 분석(우수).pdf', 'page': 3, 'total_pages': 6, 'format': 'PDF 1.4', 'title': '', 'author': 'mhan', 'subject': '', 'keywords': '', 'creator': 'Hwp 2018 10.0.0.9139', 'producer': 'Hancom PDF 1.3.0.538', 'creationDate': \"D:20200724181319+09'00'\", 'modDate': \"D:20200724181319+09'00'\", 'trapped': ''})]"
      ]
     },
     "execution_count": 89,
     "metadata": {},
     "output_type": "execute_result"
    }
   ],
   "source": [
    "docs"
   ]
  },
  {
   "attachments": {},
   "cell_type": "markdown",
   "metadata": {},
   "source": [
    "## Make a Chin"
   ]
  },
  {
   "cell_type": "code",
   "execution_count": 105,
   "metadata": {},
   "outputs": [],
   "source": [
    "# create the chain to answer questions \n",
    "qa_chain = RetrievalQA.from_chain_type(llm=OpenAI(), \n",
    "                                  chain_type=\"stuff\", \n",
    "                                  retriever=retriever, \n",
    "                                  return_source_documents=True)"
   ]
  },
  {
   "cell_type": "code",
   "execution_count": 101,
   "metadata": {},
   "outputs": [
    {
     "name": "stdout",
     "output_type": "stream",
     "text": [
      "Use the following pieces of context to answer the question at the end. If you don't know the answer, just say that you don't know, don't try to make up an answer.\n",
      "\n",
      "{context}\n",
      "\n",
      "Question: {question}\n",
      "Helpful Answer:\n"
     ]
    }
   ],
   "source": [
    "print(qa_chain.combine_documents_chain.llm_chain.prompt.template)"
   ]
  },
  {
   "cell_type": "code",
   "execution_count": null,
   "metadata": {},
   "outputs": [],
   "source": [
    "## Cite sources\n",
    "\n",
    "import textwrap\n",
    "\n",
    "def wrap_text_preserve_newlines(text, width=110):\n",
    "    # Split the input text into lines based on newline characters\n",
    "    lines = text.split('\\n')\n",
    "\n",
    "    # Wrap each line individually\n",
    "    wrapped_lines = [textwrap.fill(line, width=width) for line in lines]\n",
    "\n",
    "    # Join the wrapped lines back together using newline characters\n",
    "    wrapped_text = '\\n'.join(wrapped_lines)\n",
    "\n",
    "    return wrapped_text"
   ]
  },
  {
   "cell_type": "code",
   "execution_count": 106,
   "metadata": {},
   "outputs": [],
   "source": [
    "## Cite sources\n",
    "def process_llm_response(llm_response):\n",
    "    print(llm_response['result'])\n",
    "    # print(wrap_text_preserve_newlines(llm_response['result']))\n",
    "    print('\\n\\nSources:')\n",
    "    for source in llm_response[\"source_documents\"]:\n",
    "        print(source.metadata['source'])"
   ]
  },
  {
   "cell_type": "code",
   "execution_count": 107,
   "metadata": {},
   "outputs": [
    {
     "name": "stdout",
     "output_type": "stream",
     "text": [
      " \n",
      "사회구조적 특성이 빈집 형성에 끼친 영향은 다양합니다. 예를 들어, 사회구조가 공동체 중심적이라면, 가구가 생기거나 사람들이 이사하는 경우 빈집이 생기기가 쉽습니다. 반면, 사회구조가 개인 중심적이라면, 빈집이\n",
      "\n",
      "\n",
      "Sources:\n"
     ]
    }
   ],
   "source": [
    "# full example\n",
    "query = \"사회구조적 특성이 빈집 형성에 끼친 영항에 대해 설명해주세요\"\n",
    "llm_response = qa_chain(query)\n",
    "process_llm_response(llm_response)"
   ]
  },
  {
   "attachments": {},
   "cell_type": "markdown",
   "metadata": {},
   "source": [
    "## Deleteing the DB"
   ]
  },
  {
   "cell_type": "code",
   "execution_count": 97,
   "metadata": {},
   "outputs": [],
   "source": [
    "# To cleanup, you can delete the collection\n",
    "vectordb.delete_collection()\n",
    "vectordb.persist()\n",
    "\n",
    "# delete the directory\n",
    "!rm -rf db/"
   ]
  },
  {
   "attachments": {},
   "cell_type": "markdown",
   "metadata": {},
   "source": [
    "## Starting again loading the db"
   ]
  },
  {
   "cell_type": "code",
   "execution_count": null,
   "metadata": {},
   "outputs": [],
   "source": [
    "from langchain.vectorstores import Chroma\n",
    "from langchain.embeddings import OpenAIEmbeddings\n",
    "\n",
    "from langchain.chat_models import ChatOpenAI\n",
    "from langchain.chains import RetrievalQA"
   ]
  },
  {
   "cell_type": "code",
   "execution_count": 99,
   "metadata": {},
   "outputs": [],
   "source": [
    "persist_directory = 'db'\n",
    "embedding = OpenAIEmbeddings()\n",
    "\n",
    "vectordb = Chroma(persist_directory=persist_directory, \n",
    "                  embedding_function=embedding,\n",
    "                   )\n",
    "\n",
    "retriever = vectordb.as_retriever(search_kwargs={\"k\": 2})"
   ]
  },
  {
   "cell_type": "code",
   "execution_count": null,
   "metadata": {},
   "outputs": [],
   "source": [
    "# Set up the turbo LLM\n",
    "turbo_llm = ChatOpenAI(\n",
    "    temperature=0,\n",
    "    model_name='gpt-3.5-turbo'\n",
    ")"
   ]
  },
  {
   "cell_type": "code",
   "execution_count": null,
   "metadata": {},
   "outputs": [],
   "source": [
    "# create the chain to answer questions \n",
    "qa_chain = RetrievalQA.from_chain_type(llm=turbo_llm, \n",
    "                                  chain_type=\"stuff\", \n",
    "                                  retriever=retriever, \n",
    "                                  return_source_documents=True)"
   ]
  },
  {
   "cell_type": "code",
   "execution_count": null,
   "metadata": {},
   "outputs": [],
   "source": [
    "print(qa_chain.combine_documents_chain.llm_chain.prompt.messages[0].prompt.template)"
   ]
  },
  {
   "cell_type": "code",
   "execution_count": null,
   "metadata": {},
   "outputs": [],
   "source": [
    "print(qa_chain.combine_documents_chain.llm_chain.prompt.messages[1].prompt.template)"
   ]
  },
  {
   "cell_type": "code",
   "execution_count": null,
   "metadata": {},
   "outputs": [],
   "source": [
    "## Cite sources\n",
    "def process_llm_response(llm_response):\n",
    "    print(llm_response['result'])\n",
    "    print('\\n\\nSources:')\n",
    "    for source in llm_response[\"source_documents\"]:\n",
    "        print(source.metadata['source'])"
   ]
  },
  {
   "cell_type": "code",
   "execution_count": null,
   "metadata": {},
   "outputs": [],
   "source": []
  }
 ],
 "metadata": {
  "kernelspec": {
   "display_name": ".venv",
   "language": "python",
   "name": "python3"
  },
  "language_info": {
   "codemirror_mode": {
    "name": "ipython",
    "version": 3
   },
   "file_extension": ".py",
   "mimetype": "text/x-python",
   "name": "python",
   "nbconvert_exporter": "python",
   "pygments_lexer": "ipython3",
   "version": "3.9.16"
  },
  "orig_nbformat": 4
 },
 "nbformat": 4,
 "nbformat_minor": 2
}
